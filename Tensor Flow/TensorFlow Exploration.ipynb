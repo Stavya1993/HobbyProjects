{
 "cells": [
  {
   "cell_type": "markdown",
   "metadata": {},
   "source": [
    "My first exploration in 2016 on tensorflow to understand how it works, and how a GradientDescentOptimizer can be modelled on them!"
   ]
  },
  {
   "cell_type": "code",
   "execution_count": 4,
   "metadata": {},
   "outputs": [],
   "source": [
    "import tensorflow as tf"
   ]
  },
  {
   "cell_type": "code",
   "execution_count": 5,
   "metadata": {},
   "outputs": [
    {
     "name": "stderr",
     "output_type": "stream",
     "text": [
      "/Users/stavyabhatia/anaconda3/lib/python3.6/site-packages/tensorflow/python/client/session.py:1711: UserWarning: An interactive session is already active. This can cause out-of-memory errors in some cases. You must explicitly call `InteractiveSession.close()` to release resources held by the other session(s).\n",
      "  warnings.warn('An interactive session is already active. This can '\n"
     ]
    }
   ],
   "source": [
    "sess=tf.InteractiveSession()"
   ]
  },
  {
   "cell_type": "code",
   "execution_count": 24,
   "metadata": {
    "scrolled": true
   },
   "outputs": [],
   "source": [
    "my_tensor=tf.random_uniform(shape=[4,4])"
   ]
  },
  {
   "cell_type": "code",
   "execution_count": 25,
   "metadata": {},
   "outputs": [],
   "source": [
    "my_var=tf.Variable(my_tensor)"
   ]
  },
  {
   "cell_type": "code",
   "execution_count": 26,
   "metadata": {},
   "outputs": [],
   "source": [
    "init=tf.global_variables_initializer()"
   ]
  },
  {
   "cell_type": "code",
   "execution_count": 27,
   "metadata": {},
   "outputs": [],
   "source": [
    "sess.run(init)"
   ]
  },
  {
   "cell_type": "code",
   "execution_count": 71,
   "metadata": {},
   "outputs": [
    {
     "data": {
      "text/plain": [
       "array([[0.33180392, 0.77573717, 0.8029789 , 0.16627085],\n",
       "       [0.2900126 , 0.5469463 , 0.6286249 , 0.3406422 ],\n",
       "       [0.3266275 , 0.33126652, 0.24991524, 0.10892725],\n",
       "       [0.1503228 , 0.95796645, 0.4273318 , 0.899531  ]], dtype=float32)"
      ]
     },
     "execution_count": 71,
     "metadata": {},
     "output_type": "execute_result"
    }
   ],
   "source": [
    "sess.run(my_tensor)"
   ]
  },
  {
   "cell_type": "code",
   "execution_count": 72,
   "metadata": {},
   "outputs": [],
   "source": [
    "import numpy as np"
   ]
  },
  {
   "cell_type": "code",
   "execution_count": 75,
   "metadata": {},
   "outputs": [],
   "source": [
    "tf.set_random_seed(1)\n",
    "np.random.seed(1)"
   ]
  },
  {
   "cell_type": "code",
   "execution_count": 76,
   "metadata": {},
   "outputs": [],
   "source": [
    "rand_a=np.random.uniform(0,10,(5,5))"
   ]
  },
  {
   "cell_type": "code",
   "execution_count": 77,
   "metadata": {},
   "outputs": [
    {
     "data": {
      "text/plain": [
       "array([[4.17022005e+00, 7.20324493e+00, 1.14374817e-03, 3.02332573e+00,\n",
       "        1.46755891e+00],\n",
       "       [9.23385948e-01, 1.86260211e+00, 3.45560727e+00, 3.96767474e+00,\n",
       "        5.38816734e+00],\n",
       "       [4.19194514e+00, 6.85219500e+00, 2.04452250e+00, 8.78117436e+00,\n",
       "        2.73875932e-01],\n",
       "       [6.70467510e+00, 4.17304802e+00, 5.58689828e+00, 1.40386939e+00,\n",
       "        1.98101489e+00],\n",
       "       [8.00744569e+00, 9.68261576e+00, 3.13424178e+00, 6.92322616e+00,\n",
       "        8.76389152e+00]])"
      ]
     },
     "execution_count": 77,
     "metadata": {},
     "output_type": "execute_result"
    }
   ],
   "source": [
    "rand_a"
   ]
  },
  {
   "cell_type": "code",
   "execution_count": 78,
   "metadata": {},
   "outputs": [
    {
     "data": {
      "text/plain": [
       "array([[8.94606664],\n",
       "       [0.85044211],\n",
       "       [0.39054783],\n",
       "       [1.6983042 ],\n",
       "       [8.78142503]])"
      ]
     },
     "execution_count": 78,
     "metadata": {},
     "output_type": "execute_result"
    }
   ],
   "source": [
    "rand_b=np.random.uniform(0,10,(5,1))\n",
    "rand_b"
   ]
  },
  {
   "cell_type": "code",
   "execution_count": 230,
   "metadata": {},
   "outputs": [],
   "source": [
    "a=tf.placeholder(tf.float32)"
   ]
  },
  {
   "cell_type": "code",
   "execution_count": 231,
   "metadata": {},
   "outputs": [],
   "source": [
    "b=tf.placeholder(tf.float32)"
   ]
  },
  {
   "cell_type": "code",
   "execution_count": 232,
   "metadata": {},
   "outputs": [],
   "source": [
    "add=tf.add(a,b)"
   ]
  },
  {
   "cell_type": "code",
   "execution_count": 233,
   "metadata": {},
   "outputs": [],
   "source": [
    "mult=tf.multiply(a,b)"
   ]
  },
  {
   "cell_type": "code",
   "execution_count": 234,
   "metadata": {},
   "outputs": [],
   "source": [
    "init=tf.global_variables_initializer()"
   ]
  },
  {
   "cell_type": "code",
   "execution_count": 235,
   "metadata": {},
   "outputs": [
    {
     "name": "stdout",
     "output_type": "stream",
     "text": [
      "Add:  [[13.116287   16.149311    8.94721    11.969393   10.413626  ]\n",
      " [ 1.773828    2.7130442   4.3060493   4.8181167   6.2386093 ]\n",
      " [ 4.582493    7.2427425   2.4350703   9.171722    0.66442376]\n",
      " [ 8.402979    5.871352    7.2852025   3.1021736   3.679319  ]\n",
      " [16.788872   18.464043   11.915668   15.704652   17.545317  ]]\n",
      "\n",
      "\n",
      "Multiply:  [[3.7307068e+01 6.4440712e+01 1.0232047e-02 2.7046873e+01 1.3128880e+01]\n",
      " [7.8528625e-01 1.5840353e+00 2.9387939e+00 3.3742776e+00 4.5823245e+00]\n",
      " [1.6371551e+00 2.6761098e+00 7.9848385e-01 3.4294689e+00 1.0696165e-01]\n",
      " [1.1386578e+01 7.0871048e+00 9.4882526e+00 2.3841972e+00 3.3643658e+00]\n",
      " [7.0316788e+01 8.5027176e+01 2.7523111e+01 6.0795795e+01 7.6959457e+01]]\n"
     ]
    }
   ],
   "source": [
    "with tf.Session() as sess:\n",
    "    sess.run(init)\n",
    "    addition=sess.run(add, feed_dict={a:rand_a,b:rand_b})\n",
    "    multiplication=sess.run(mult, feed_dict={a:rand_a,b:rand_b})\n",
    "    \n",
    "    print(\"Add: \",addition)\n",
    "    print('\\n')\n",
    "    print(\"Multiply: \",multiplication)"
   ]
  },
  {
   "cell_type": "code",
   "execution_count": 236,
   "metadata": {},
   "outputs": [],
   "source": [
    "x=np.linspace(0,10,10)+np.random.uniform(-1,1,10)\n",
    "y=np.linspace(0,10,10)+np.random.uniform(-1,1,10)"
   ]
  },
  {
   "cell_type": "code",
   "execution_count": 237,
   "metadata": {},
   "outputs": [],
   "source": [
    "x=x.reshape(-1,1)"
   ]
  },
  {
   "cell_type": "code",
   "execution_count": 238,
   "metadata": {},
   "outputs": [],
   "source": [
    "y=y.reshape(-1,1)"
   ]
  },
  {
   "cell_type": "code",
   "execution_count": 239,
   "metadata": {},
   "outputs": [],
   "source": [
    "import matplotlib.pyplot as plt \n",
    "%matplotlib inline"
   ]
  },
  {
   "cell_type": "code",
   "execution_count": 240,
   "metadata": {},
   "outputs": [],
   "source": [
    "feed_x=tf.placeholder(dtype=tf.float32,shape=[None,1])\n",
    "feed_y=tf.placeholder(dtype=tf.float32,shape=[None,1])"
   ]
  },
  {
   "cell_type": "code",
   "execution_count": 241,
   "metadata": {},
   "outputs": [],
   "source": [
    "W=tf.Variable(tf.random_normal(shape=[1,1]),dtype=tf.float32)\n",
    "b=tf.Variable(tf.random_normal(shape=[1,1]),dtype=tf.float32)"
   ]
  },
  {
   "cell_type": "code",
   "execution_count": 242,
   "metadata": {},
   "outputs": [],
   "source": [
    "y_pred=(tf.add(tf.matmul(feed_x,W),b))"
   ]
  },
  {
   "cell_type": "code",
   "execution_count": 243,
   "metadata": {},
   "outputs": [],
   "source": [
    "error=tf.reduce_sum((y_pred-feed_y)**2)"
   ]
  },
  {
   "cell_type": "code",
   "execution_count": 244,
   "metadata": {},
   "outputs": [],
   "source": [
    "optimizer=tf.train.GradientDescentOptimizer(learning_rate=0.001)\n",
    "#train=optimizer.minimize(error)"
   ]
  },
  {
   "cell_type": "code",
   "execution_count": 245,
   "metadata": {},
   "outputs": [],
   "source": [
    "train=optimizer.minimize(error)"
   ]
  },
  {
   "cell_type": "code",
   "execution_count": 246,
   "metadata": {},
   "outputs": [],
   "source": [
    "init=tf.global_variables_initializer()"
   ]
  },
  {
   "cell_type": "code",
   "execution_count": 247,
   "metadata": {},
   "outputs": [],
   "source": [
    "with tf.Session() as sess:\n",
    "    sess.run(init)\n",
    "    training_steps=100\n",
    "    \n",
    "    for i in range(training_steps):\n",
    "        sess.run(train, feed_dict={feed_x:x,feed_y:y})\n",
    "    final_slope,final_intercept=sess.run([W,b])"
   ]
  },
  {
   "cell_type": "code",
   "execution_count": 248,
   "metadata": {},
   "outputs": [
    {
     "data": {
      "text/plain": [
       "<tf.Tensor 'Sum_1:0' shape=() dtype=float32>"
      ]
     },
     "execution_count": 248,
     "metadata": {},
     "output_type": "execute_result"
    }
   ],
   "source": [
    "error"
   ]
  },
  {
   "cell_type": "code",
   "execution_count": 249,
   "metadata": {},
   "outputs": [
    {
     "data": {
      "text/plain": [
       "array([[1.0371333]], dtype=float32)"
      ]
     },
     "execution_count": 249,
     "metadata": {},
     "output_type": "execute_result"
    }
   ],
   "source": [
    "final_slope"
   ]
  },
  {
   "cell_type": "code",
   "execution_count": 250,
   "metadata": {},
   "outputs": [
    {
     "data": {
      "text/plain": [
       "array([[-0.34629324]], dtype=float32)"
      ]
     },
     "execution_count": 250,
     "metadata": {},
     "output_type": "execute_result"
    }
   ],
   "source": [
    "final_intercept"
   ]
  },
  {
   "cell_type": "code",
   "execution_count": 251,
   "metadata": {},
   "outputs": [],
   "source": [
    "y_pred=final_slope*x+final_intercept"
   ]
  },
  {
   "cell_type": "code",
   "execution_count": 252,
   "metadata": {},
   "outputs": [
    {
     "data": {
      "text/plain": [
       "array([[ 0.80680383],\n",
       "       [ 0.38606052],\n",
       "       [ 1.50077492],\n",
       "       [ 3.94811591],\n",
       "       [ 4.23979812],\n",
       "       [ 4.88626395],\n",
       "       [ 7.52168383],\n",
       "       [ 7.4733095 ],\n",
       "       [ 9.3905131 ],\n",
       "       [10.45199597]])"
      ]
     },
     "execution_count": 252,
     "metadata": {},
     "output_type": "execute_result"
    }
   ],
   "source": [
    "y"
   ]
  },
  {
   "cell_type": "code",
   "execution_count": 253,
   "metadata": {},
   "outputs": [
    {
     "data": {
      "text/plain": [
       "array([[-1.17115768],\n",
       "       [ 0.62780633],\n",
       "       [ 2.36168527],\n",
       "       [ 2.9328028 ],\n",
       "       [ 3.32967171],\n",
       "       [ 5.49001734],\n",
       "       [ 6.90768277],\n",
       "       [ 7.75118336],\n",
       "       [ 9.79487783],\n",
       "       [10.20457836]])"
      ]
     },
     "execution_count": 253,
     "metadata": {},
     "output_type": "execute_result"
    }
   ],
   "source": [
    "y_pred"
   ]
  },
  {
   "cell_type": "code",
   "execution_count": 254,
   "metadata": {},
   "outputs": [
    {
     "data": {
      "text/plain": [
       "[<matplotlib.lines.Line2D at 0x13d37f898>]"
      ]
     },
     "execution_count": 254,
     "metadata": {},
     "output_type": "execute_result"
    },
    {
     "data": {
      "image/png": "[encoded data removed]",
      "text/plain": [
       "<matplotlib.figure.Figure at 0x13d37f7b8>"
      ]
     },
     "metadata": {},
     "output_type": "display_data"
    }
   ],
   "source": [
    "plt.scatter(y,y_pred)\n",
    "plt.plot(range(-1,12),range(-1,12))"
   ]
  },
  {
   "cell_type": "code",
   "execution_count": null,
   "metadata": {},
   "outputs": [],
   "source": []
  }
 ],
 "metadata": {
  "kernelspec": {
   "display_name": "Python 3",
   "language": "python",
   "name": "python3"
  },
  "language_info": {
   "codemirror_mode": {
    "name": "ipython",
    "version": 3
   },
   "file_extension": ".py",
   "mimetype": "text/x-python",
   "name": "python",
   "nbconvert_exporter": "python",
   "pygments_lexer": "ipython3",
   "version": "3.9.2"
  }
 },
 "nbformat": 4,
 "nbformat_minor": 2
}
