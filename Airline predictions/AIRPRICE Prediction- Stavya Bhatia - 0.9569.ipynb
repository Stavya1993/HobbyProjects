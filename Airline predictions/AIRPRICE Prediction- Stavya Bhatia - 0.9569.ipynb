{
 "cells": [
  {
   "cell_type": "markdown",
   "metadata": {},
   "source": [
    "I built an airline predictor in 2019 as a part of analytics Indian magazine's competition.\n",
    "The goal of the project was to build a high efficiency model to predict airline prices given certain features.\n",
    "I spent the first two days of the competition understanding how airline tickets are priced. Post this I explored the underlying data set, identified possible features that could potentially be extracted from this data set (feature generation), and implemented a stacked regressor.\n",
    "\n",
    "I stood first amongst 300+ participants and was invited to their annual forum in Mumbai to be felicitated."
   ]
  },
  {
   "cell_type": "markdown",
   "metadata": {},
   "source": [
    "# AIRPRICE PREDICTION - Approach"
   ]
  },
  {
   "cell_type": "markdown",
   "metadata": {},
   "source": [
    "The approach taken in the modelling of airplane price prediction is as follows:\n",
    "\n",
    "1) Data exploration: \n",
    "    I familiarized myself with the train and test data set. This included understanding the number of rows and columns of train and test data, the type of data in each column, the identification of missing values if any, finding out the value distribution of columns, and finally understanding variation of price with individual columns using visualization.\n",
    "   \n",
    "2) Data treatment and Feature Generation:\n",
    "    After a thorough EDA that helped me familiarize myself with the train and test data set, I decided to coalesce the two data sets to fix some common data issues. For eg: I noted that arrival_time column had an incorrect date value whenever the flight travelled from one date into another- I decided to fix this by adding duration to the departure date time to get the correct arrival date time. I will talk about these more in detail at the time of coding for better understanding.\n",
    "    \n",
    "3) Target variable Normalization:\n",
    "    As noted in most regression models, the models fit better when the target variable is normalized. I used the seaborn package to develop a distribution plot and scipy to develop a probability plot to understand the price distribution in the data. I found the data to have a little right skew with ireegularities and found that the logarithmic function helps me normalize data to a certain extent. \n",
    "\n",
    "    Please note, I do not believe this was the best treatment for normalizing pricing, however, I chose to go with it after trying some other normalization methods that didnt give a better output than log, but I am certain there might be a better value treatment I currently havent discovered.\n",
    "    \n",
    "4) Null Value Treatment:\n",
    "    I identified only two missing values overall which were in the columns route and total_stops. On exloring a little further I found both the values to be missing in the same row. I did some digging into the data by filtering other columns that had the same value as the row with missing values. For instance, I filtered the data for all rows having the following column values:\n",
    "    Destination - Cochin\n",
    "    Source - Delhi\n",
    "    Duration - 1420 min\n",
    "    Month - 5\n",
    "    Airline - AirIndia\n",
    " The idea behind this filtering was that a flight flying between the same source and destination, having the same duration and carrier in the same month will have a similiar route. (This was a hypothesis vaguely based on a paper I read on flight scheduling)\n",
    " I found a few other flights with the same column values that had the same route and total stops validating my hypothesis. I replicated the same values for my missing row.\n",
    " \n",
    "5) Outlier Treatment:\n",
    "    Post missing value treatment I moved further to remove any outliers in my data. I used two models seperately namely ElasticNet and Ridge to fit my training data's dependent and independent variables. I then calculated residuals of both the fits individually. I then calculated Z value of each point by subtracting individual residual values with the mean residual value and then dividing it by the standard deviation of residual value. Any Z value greater than 3 standard deviation of the Z values was considered an outlier for that model. The outlier rows common to both the models were considered as outliers of my main model. \n",
    "    \n",
    "    Please note, using this technique I saw my score drop rather than increase so I decided to not use it as a part of my code. I have only explained this as it was a part of my thought process for solving the problem. I have left the code in comments below for reference.\n",
    "\n",
    "6) Skew Treatment:\n",
    "    I used boxcox transformation to treat the skewness of my independent variables to help better fit my model. I learnt this following technique from learning material on Kaggle.\n",
    "    \n",
    "7) Modeling:\n",
    "    I built a stack regressor that uses LightGBM regressor, GradientBoosting regressor, SVR , Random Forest regressor, and Kernel ridge as base models and XGboost regressor as my meta model. The process was to first select individual models and hyperparameter tune them using GridSearchCV (with assistance from articles on analytics vidhya), then check the root mean squared value using a function 'rmsle_cv' that I developed. This function uses the KFold technique for cross validation that helps prevent overfitting on the train data.\n",
    "  Once all the models were hyperparameter tuned and the individual RMSE scores were satisfactory I stacked them for my final price output.\n",
    "  \n",
    "Please Note:\n",
    "\n",
    "    The code was run iteratively and a lot of things I did to reach this particular section have been removed during the process for simple understanding. For example, GridSearchCV was used for parameter tuning but was removed once the paramaters were tuned satisfactorily. Similiarly, null value treatment consisted of several group by's and column filtering before I finally reached at the column values mentioned above, but have since been removed. \n",
    "\n",
    "    Most of the data treatment, feature generation, skew treatment was a part of an iterative process that were edited/omitted/added on the bases of how they scored on the leaderboard. So there is no smooth top down approach to coding that I took, however, I have tried to keep it as clean as possible.\n",
    "\n",
    "    Outlier treatment was removed from the model but has been commented in the code for understanding\n",
    "    \n",
    "    Other models I tried- Lasso, Ridge, Elasticnet , Keras Neural Network regressor, Cat Boost, Blending models.\n",
    "    "
   ]
  },
  {
   "cell_type": "markdown",
   "metadata": {},
   "source": [
    "### Importing packages for data processing, feature generation, outlier detection, missing value treatment, skew treatment and modelling"
   ]
  },
  {
   "cell_type": "code",
   "execution_count": 1,
   "metadata": {},
   "outputs": [
    {
     "name": "stderr",
     "output_type": "stream",
     "text": [
      "/Users/stavyabhatia/anaconda3/lib/python3.6/site-packages/sklearn/cross_validation.py:41: DeprecationWarning: This module was deprecated in version 0.18 in favor of the model_selection module into which all the refactored classes and functions are moved. Also note that the interface of the new CV iterators are different from that of this module. This module will be removed in 0.20.\n",
      "  \"This module will be removed in 0.20.\", DeprecationWarning)\n",
      "/Users/stavyabhatia/anaconda3/lib/python3.6/site-packages/sklearn/ensemble/weight_boosting.py:29: DeprecationWarning: numpy.core.umath_tests is an internal NumPy module and should not be imported. It will be removed in a future NumPy release.\n",
      "  from numpy.core.umath_tests import inner1d\n",
      "/Users/stavyabhatia/anaconda3/lib/python3.6/site-packages/lightgbm/__init__.py:46: UserWarning: Starting from version 2.2.1, the library file in distribution wheels for macOS is built by the Apple Clang (Xcode_8.3.3) compiler.\n",
      "This means that in case of installing LightGBM from PyPI via the ``pip install lightgbm`` command, you don't need to install the gcc compiler anymore.\n",
      "Instead of that, you need to install the OpenMP library, which is required for running LightGBM on the system with the Apple Clang compiler.\n",
      "You can install the OpenMP library by the following command: ``brew install libomp``.\n",
      "  \"You can install the OpenMP library by the following command: ``brew install libomp``.\", UserWarning)\n"
     ]
    }
   ],
   "source": [
    "import pandas as pd \n",
    "import numpy as np\n",
    "import matplotlib.pyplot as plt\n",
    "import seaborn as sns\n",
    "from scipy import stats\n",
    "from sklearn.model_selection import KFold\n",
    "#from sklearn.linear_model import LassoCV , RidgeCV, ElasticNet, Lasso,Ridge\n",
    "from sklearn.cross_validation import cross_val_score\n",
    "from sklearn.pipeline import make_pipeline, Pipeline\n",
    "from sklearn.preprocessing import RobustScaler\n",
    "from sklearn.ensemble import GradientBoostingRegressor\n",
    "from sklearn.model_selection import GridSearchCV\n",
    "from lightgbm import LGBMRegressor\n",
    "from xgboost import XGBRegressor  \n",
    "from sklearn.svm import SVR\n",
    "from sklearn.metrics import mean_squared_error\n",
    "import datetime\n",
    "from mlxtend.regressor import StackingCVRegressor\n",
    "from sklearn.kernel_ridge import KernelRidge\n",
    "from sklearn.ensemble import RandomForestRegressor\n",
    "from scipy.stats import skew\n",
    "from scipy.special import boxcox1p\n",
    "from scipy.stats import boxcox_normmax"
   ]
  },
  {
   "cell_type": "markdown",
   "metadata": {},
   "source": [
    "### Data import and EDA"
   ]
  },
  {
   "cell_type": "code",
   "execution_count": 2,
   "metadata": {},
   "outputs": [],
   "source": [
    "train=pd.read_excel(\"Data_Train.xlsx\")\n",
    "test=pd.read_excel(\"Test_set.xlsx\")\n",
    "sample=pd.read_excel(\"Sample_submission.xlsx\")"
   ]
  },
  {
   "cell_type": "code",
   "execution_count": 3,
   "metadata": {
    "scrolled": true
   },
   "outputs": [
    {
     "data": {
      "text/html": [
       "<div>\n",
       "<style scoped>\n",
       "    .dataframe tbody tr th:only-of-type {\n",
       "        vertical-align: middle;\n",
       "    }\n",
       "\n",
       "    .dataframe tbody tr th {\n",
       "        vertical-align: top;\n",
       "    }\n",
       "\n",
       "    .dataframe thead th {\n",
       "        text-align: right;\n",
       "    }\n",
       "</style>\n",
       "<table border=\"1\" class=\"dataframe\">\n",
       "  <thead>\n",
       "    <tr style=\"text-align: right;\">\n",
       "      <th></th>\n",
       "      <th>Airline</th>\n",
       "      <th>Date_of_Journey</th>\n",
       "      <th>Source</th>\n",
       "      <th>Destination</th>\n",
       "      <th>Route</th>\n",
       "      <th>Dep_Time</th>\n",
       "      <th>Arrival_Time</th>\n",
       "      <th>Duration</th>\n",
       "      <th>Total_Stops</th>\n",
       "      <th>Additional_Info</th>\n",
       "      <th>Price</th>\n",
       "    </tr>\n",
       "  </thead>\n",
       "  <tbody>\n",
       "    <tr>\n",
       "      <th>0</th>\n",
       "      <td>IndiGo</td>\n",
       "      <td>24/03/2019</td>\n",
       "      <td>Banglore</td>\n",
       "      <td>New Delhi</td>\n",
       "      <td>BLR → DEL</td>\n",
       "      <td>22:20</td>\n",
       "      <td>01:10 22 Mar</td>\n",
       "      <td>2h 50m</td>\n",
       "      <td>non-stop</td>\n",
       "      <td>No info</td>\n",
       "      <td>3897</td>\n",
       "    </tr>\n",
       "    <tr>\n",
       "      <th>1</th>\n",
       "      <td>Air India</td>\n",
       "      <td>1/05/2019</td>\n",
       "      <td>Kolkata</td>\n",
       "      <td>Banglore</td>\n",
       "      <td>CCU → IXR → BBI → BLR</td>\n",
       "      <td>05:50</td>\n",
       "      <td>13:15</td>\n",
       "      <td>7h 25m</td>\n",
       "      <td>2 stops</td>\n",
       "      <td>No info</td>\n",
       "      <td>7662</td>\n",
       "    </tr>\n",
       "    <tr>\n",
       "      <th>2</th>\n",
       "      <td>Jet Airways</td>\n",
       "      <td>9/06/2019</td>\n",
       "      <td>Delhi</td>\n",
       "      <td>Cochin</td>\n",
       "      <td>DEL → LKO → BOM → COK</td>\n",
       "      <td>09:25</td>\n",
       "      <td>04:25 10 Jun</td>\n",
       "      <td>19h</td>\n",
       "      <td>2 stops</td>\n",
       "      <td>No info</td>\n",
       "      <td>13882</td>\n",
       "    </tr>\n",
       "    <tr>\n",
       "      <th>3</th>\n",
       "      <td>IndiGo</td>\n",
       "      <td>12/05/2019</td>\n",
       "      <td>Kolkata</td>\n",
       "      <td>Banglore</td>\n",
       "      <td>CCU → NAG → BLR</td>\n",
       "      <td>18:05</td>\n",
       "      <td>23:30</td>\n",
       "      <td>5h 25m</td>\n",
       "      <td>1 stop</td>\n",
       "      <td>No info</td>\n",
       "      <td>6218</td>\n",
       "    </tr>\n",
       "    <tr>\n",
       "      <th>4</th>\n",
       "      <td>IndiGo</td>\n",
       "      <td>01/03/2019</td>\n",
       "      <td>Banglore</td>\n",
       "      <td>New Delhi</td>\n",
       "      <td>BLR → NAG → DEL</td>\n",
       "      <td>16:50</td>\n",
       "      <td>21:35</td>\n",
       "      <td>4h 45m</td>\n",
       "      <td>1 stop</td>\n",
       "      <td>No info</td>\n",
       "      <td>13302</td>\n",
       "    </tr>\n",
       "  </tbody>\n",
       "</table>\n",
       "</div>"
      ],
      "text/plain": [
       "       Airline Date_of_Journey    Source Destination                  Route  \\\n",
       "0       IndiGo      24/03/2019  Banglore   New Delhi              BLR → DEL   \n",
       "1    Air India       1/05/2019   Kolkata    Banglore  CCU → IXR → BBI → BLR   \n",
       "2  Jet Airways       9/06/2019     Delhi      Cochin  DEL → LKO → BOM → COK   \n",
       "3       IndiGo      12/05/2019   Kolkata    Banglore        CCU → NAG → BLR   \n",
       "4       IndiGo      01/03/2019  Banglore   New Delhi        BLR → NAG → DEL   \n",
       "\n",
       "  Dep_Time  Arrival_Time Duration Total_Stops Additional_Info  Price  \n",
       "0    22:20  01:10 22 Mar   2h 50m    non-stop         No info   3897  \n",
       "1    05:50         13:15   7h 25m     2 stops         No info   7662  \n",
       "2    09:25  04:25 10 Jun      19h     2 stops         No info  13882  \n",
       "3    18:05         23:30   5h 25m      1 stop         No info   6218  \n",
       "4    16:50         21:35   4h 45m      1 stop         No info  13302  "
      ]
     },
     "execution_count": 3,
     "metadata": {},
     "output_type": "execute_result"
    }
   ],
   "source": [
    "train.head()"
   ]
  },
  {
   "cell_type": "code",
   "execution_count": 4,
   "metadata": {},
   "outputs": [
    {
     "name": "stdout",
     "output_type": "stream",
     "text": [
      "<class 'pandas.core.frame.DataFrame'>\n",
      "RangeIndex: 10683 entries, 0 to 10682\n",
      "Data columns (total 11 columns):\n",
      "Airline            10683 non-null object\n",
      "Date_of_Journey    10683 non-null object\n",
      "Source             10683 non-null object\n",
      "Destination        10683 non-null object\n",
      "Route              10682 non-null object\n",
      "Dep_Time           10683 non-null object\n",
      "Arrival_Time       10683 non-null object\n",
      "Duration           10683 non-null object\n",
      "Total_Stops        10682 non-null object\n",
      "Additional_Info    10683 non-null object\n",
      "Price              10683 non-null int64\n",
      "dtypes: int64(1), object(10)\n",
      "memory usage: 918.1+ KB\n"
     ]
    },
    {
     "data": {
      "text/html": [
       "<div>\n",
       "<style scoped>\n",
       "    .dataframe tbody tr th:only-of-type {\n",
       "        vertical-align: middle;\n",
       "    }\n",
       "\n",
       "    .dataframe tbody tr th {\n",
       "        vertical-align: top;\n",
       "    }\n",
       "\n",
       "    .dataframe thead th {\n",
       "        text-align: right;\n",
       "    }\n",
       "</style>\n",
       "<table border=\"1\" class=\"dataframe\">\n",
       "  <thead>\n",
       "    <tr style=\"text-align: right;\">\n",
       "      <th></th>\n",
       "      <th>Price</th>\n",
       "    </tr>\n",
       "  </thead>\n",
       "  <tbody>\n",
       "    <tr>\n",
       "      <th>count</th>\n",
       "      <td>10683.000000</td>\n",
       "    </tr>\n",
       "    <tr>\n",
       "      <th>mean</th>\n",
       "      <td>9087.064121</td>\n",
       "    </tr>\n",
       "    <tr>\n",
       "      <th>std</th>\n",
       "      <td>4611.359167</td>\n",
       "    </tr>\n",
       "    <tr>\n",
       "      <th>min</th>\n",
       "      <td>1759.000000</td>\n",
       "    </tr>\n",
       "    <tr>\n",
       "      <th>25%</th>\n",
       "      <td>5277.000000</td>\n",
       "    </tr>\n",
       "    <tr>\n",
       "      <th>50%</th>\n",
       "      <td>8372.000000</td>\n",
       "    </tr>\n",
       "    <tr>\n",
       "      <th>75%</th>\n",
       "      <td>12373.000000</td>\n",
       "    </tr>\n",
       "    <tr>\n",
       "      <th>max</th>\n",
       "      <td>79512.000000</td>\n",
       "    </tr>\n",
       "  </tbody>\n",
       "</table>\n",
       "</div>"
      ],
      "text/plain": [
       "              Price\n",
       "count  10683.000000\n",
       "mean    9087.064121\n",
       "std     4611.359167\n",
       "min     1759.000000\n",
       "25%     5277.000000\n",
       "50%     8372.000000\n",
       "75%    12373.000000\n",
       "max    79512.000000"
      ]
     },
     "execution_count": 4,
     "metadata": {},
     "output_type": "execute_result"
    }
   ],
   "source": [
    "train.info()\n",
    "train.describe()"
   ]
  },
  {
   "cell_type": "code",
   "execution_count": 5,
   "metadata": {
    "scrolled": true
   },
   "outputs": [
    {
     "data": {
      "text/html": [
       "<div>\n",
       "<style scoped>\n",
       "    .dataframe tbody tr th:only-of-type {\n",
       "        vertical-align: middle;\n",
       "    }\n",
       "\n",
       "    .dataframe tbody tr th {\n",
       "        vertical-align: top;\n",
       "    }\n",
       "\n",
       "    .dataframe thead th {\n",
       "        text-align: right;\n",
       "    }\n",
       "</style>\n",
       "<table border=\"1\" class=\"dataframe\">\n",
       "  <thead>\n",
       "    <tr style=\"text-align: right;\">\n",
       "      <th></th>\n",
       "      <th>Airline</th>\n",
       "      <th>Date_of_Journey</th>\n",
       "      <th>Source</th>\n",
       "      <th>Destination</th>\n",
       "      <th>Route</th>\n",
       "      <th>Dep_Time</th>\n",
       "      <th>Arrival_Time</th>\n",
       "      <th>Duration</th>\n",
       "      <th>Total_Stops</th>\n",
       "      <th>Additional_Info</th>\n",
       "    </tr>\n",
       "  </thead>\n",
       "  <tbody>\n",
       "    <tr>\n",
       "      <th>0</th>\n",
       "      <td>Jet Airways</td>\n",
       "      <td>6/06/2019</td>\n",
       "      <td>Delhi</td>\n",
       "      <td>Cochin</td>\n",
       "      <td>DEL → BOM → COK</td>\n",
       "      <td>17:30</td>\n",
       "      <td>04:25 07 Jun</td>\n",
       "      <td>10h 55m</td>\n",
       "      <td>1 stop</td>\n",
       "      <td>No info</td>\n",
       "    </tr>\n",
       "    <tr>\n",
       "      <th>1</th>\n",
       "      <td>IndiGo</td>\n",
       "      <td>12/05/2019</td>\n",
       "      <td>Kolkata</td>\n",
       "      <td>Banglore</td>\n",
       "      <td>CCU → MAA → BLR</td>\n",
       "      <td>06:20</td>\n",
       "      <td>10:20</td>\n",
       "      <td>4h</td>\n",
       "      <td>1 stop</td>\n",
       "      <td>No info</td>\n",
       "    </tr>\n",
       "    <tr>\n",
       "      <th>2</th>\n",
       "      <td>Jet Airways</td>\n",
       "      <td>21/05/2019</td>\n",
       "      <td>Delhi</td>\n",
       "      <td>Cochin</td>\n",
       "      <td>DEL → BOM → COK</td>\n",
       "      <td>19:15</td>\n",
       "      <td>19:00 22 May</td>\n",
       "      <td>23h 45m</td>\n",
       "      <td>1 stop</td>\n",
       "      <td>In-flight meal not included</td>\n",
       "    </tr>\n",
       "    <tr>\n",
       "      <th>3</th>\n",
       "      <td>Multiple carriers</td>\n",
       "      <td>21/05/2019</td>\n",
       "      <td>Delhi</td>\n",
       "      <td>Cochin</td>\n",
       "      <td>DEL → BOM → COK</td>\n",
       "      <td>08:00</td>\n",
       "      <td>21:00</td>\n",
       "      <td>13h</td>\n",
       "      <td>1 stop</td>\n",
       "      <td>No info</td>\n",
       "    </tr>\n",
       "    <tr>\n",
       "      <th>4</th>\n",
       "      <td>Air Asia</td>\n",
       "      <td>24/06/2019</td>\n",
       "      <td>Banglore</td>\n",
       "      <td>Delhi</td>\n",
       "      <td>BLR → DEL</td>\n",
       "      <td>23:55</td>\n",
       "      <td>02:45 25 Jun</td>\n",
       "      <td>2h 50m</td>\n",
       "      <td>non-stop</td>\n",
       "      <td>No info</td>\n",
       "    </tr>\n",
       "  </tbody>\n",
       "</table>\n",
       "</div>"
      ],
      "text/plain": [
       "             Airline Date_of_Journey    Source Destination            Route  \\\n",
       "0        Jet Airways       6/06/2019     Delhi      Cochin  DEL → BOM → COK   \n",
       "1             IndiGo      12/05/2019   Kolkata    Banglore  CCU → MAA → BLR   \n",
       "2        Jet Airways      21/05/2019     Delhi      Cochin  DEL → BOM → COK   \n",
       "3  Multiple carriers      21/05/2019     Delhi      Cochin  DEL → BOM → COK   \n",
       "4           Air Asia      24/06/2019  Banglore       Delhi        BLR → DEL   \n",
       "\n",
       "  Dep_Time  Arrival_Time Duration Total_Stops              Additional_Info  \n",
       "0    17:30  04:25 07 Jun  10h 55m      1 stop                      No info  \n",
       "1    06:20         10:20       4h      1 stop                      No info  \n",
       "2    19:15  19:00 22 May  23h 45m      1 stop  In-flight meal not included  \n",
       "3    08:00         21:00      13h      1 stop                      No info  \n",
       "4    23:55  02:45 25 Jun   2h 50m    non-stop                      No info  "
      ]
     },
     "execution_count": 5,
     "metadata": {},
     "output_type": "execute_result"
    }
   ],
   "source": [
    "test.head()"
   ]
  },
  {
   "cell_type": "code",
   "execution_count": 6,
   "metadata": {},
   "outputs": [
    {
     "name": "stdout",
     "output_type": "stream",
     "text": [
      "<class 'pandas.core.frame.DataFrame'>\n",
      "RangeIndex: 2671 entries, 0 to 2670\n",
      "Data columns (total 10 columns):\n",
      "Airline            2671 non-null object\n",
      "Date_of_Journey    2671 non-null object\n",
      "Source             2671 non-null object\n",
      "Destination        2671 non-null object\n",
      "Route              2671 non-null object\n",
      "Dep_Time           2671 non-null object\n",
      "Arrival_Time       2671 non-null object\n",
      "Duration           2671 non-null object\n",
      "Total_Stops        2671 non-null object\n",
      "Additional_Info    2671 non-null object\n",
      "dtypes: object(10)\n",
      "memory usage: 208.8+ KB\n"
     ]
    },
    {
     "data": {
      "text/html": [
       "<div>\n",
       "<style scoped>\n",
       "    .dataframe tbody tr th:only-of-type {\n",
       "        vertical-align: middle;\n",
       "    }\n",
       "\n",
       "    .dataframe tbody tr th {\n",
       "        vertical-align: top;\n",
       "    }\n",
       "\n",
       "    .dataframe thead th {\n",
       "        text-align: right;\n",
       "    }\n",
       "</style>\n",
       "<table border=\"1\" class=\"dataframe\">\n",
       "  <thead>\n",
       "    <tr style=\"text-align: right;\">\n",
       "      <th></th>\n",
       "      <th>Airline</th>\n",
       "      <th>Date_of_Journey</th>\n",
       "      <th>Source</th>\n",
       "      <th>Destination</th>\n",
       "      <th>Route</th>\n",
       "      <th>Dep_Time</th>\n",
       "      <th>Arrival_Time</th>\n",
       "      <th>Duration</th>\n",
       "      <th>Total_Stops</th>\n",
       "      <th>Additional_Info</th>\n",
       "    </tr>\n",
       "  </thead>\n",
       "  <tbody>\n",
       "    <tr>\n",
       "      <th>count</th>\n",
       "      <td>2671</td>\n",
       "      <td>2671</td>\n",
       "      <td>2671</td>\n",
       "      <td>2671</td>\n",
       "      <td>2671</td>\n",
       "      <td>2671</td>\n",
       "      <td>2671</td>\n",
       "      <td>2671</td>\n",
       "      <td>2671</td>\n",
       "      <td>2671</td>\n",
       "    </tr>\n",
       "    <tr>\n",
       "      <th>unique</th>\n",
       "      <td>11</td>\n",
       "      <td>44</td>\n",
       "      <td>5</td>\n",
       "      <td>6</td>\n",
       "      <td>100</td>\n",
       "      <td>199</td>\n",
       "      <td>704</td>\n",
       "      <td>320</td>\n",
       "      <td>5</td>\n",
       "      <td>6</td>\n",
       "    </tr>\n",
       "    <tr>\n",
       "      <th>top</th>\n",
       "      <td>Jet Airways</td>\n",
       "      <td>9/05/2019</td>\n",
       "      <td>Delhi</td>\n",
       "      <td>Cochin</td>\n",
       "      <td>DEL → BOM → COK</td>\n",
       "      <td>10:00</td>\n",
       "      <td>19:00</td>\n",
       "      <td>2h 50m</td>\n",
       "      <td>1 stop</td>\n",
       "      <td>No info</td>\n",
       "    </tr>\n",
       "    <tr>\n",
       "      <th>freq</th>\n",
       "      <td>897</td>\n",
       "      <td>144</td>\n",
       "      <td>1145</td>\n",
       "      <td>1145</td>\n",
       "      <td>624</td>\n",
       "      <td>62</td>\n",
       "      <td>113</td>\n",
       "      <td>122</td>\n",
       "      <td>1431</td>\n",
       "      <td>2148</td>\n",
       "    </tr>\n",
       "  </tbody>\n",
       "</table>\n",
       "</div>"
      ],
      "text/plain": [
       "            Airline Date_of_Journey Source Destination            Route  \\\n",
       "count          2671            2671   2671        2671             2671   \n",
       "unique           11              44      5           6              100   \n",
       "top     Jet Airways       9/05/2019  Delhi      Cochin  DEL → BOM → COK   \n",
       "freq            897             144   1145        1145              624   \n",
       "\n",
       "       Dep_Time Arrival_Time Duration Total_Stops Additional_Info  \n",
       "count      2671         2671     2671        2671            2671  \n",
       "unique      199          704      320           5               6  \n",
       "top       10:00        19:00   2h 50m      1 stop         No info  \n",
       "freq         62          113      122        1431            2148  "
      ]
     },
     "execution_count": 6,
     "metadata": {},
     "output_type": "execute_result"
    }
   ],
   "source": [
    "test.info()\n",
    "test.describe()"
   ]
  },
  {
   "cell_type": "code",
   "execution_count": 7,
   "metadata": {},
   "outputs": [],
   "source": [
    "# storing number of rows as an a variable for later use\n",
    "len_train=train.shape[0]"
   ]
  },
  {
   "cell_type": "code",
   "execution_count": 8,
   "metadata": {},
   "outputs": [],
   "source": [
    "#coalescing the two columns for data treatment\n",
    "train=train.append(test)\n",
    "train=train.reset_index()\n",
    "train=train.drop('index',axis=1)"
   ]
  },
  {
   "cell_type": "code",
   "execution_count": 9,
   "metadata": {},
   "outputs": [
    {
     "data": {
      "text/plain": [
       "<matplotlib.axes._subplots.AxesSubplot at 0x1185e3fd0>"
      ]
     },
     "execution_count": 9,
     "metadata": {},
     "output_type": "execute_result"
    },
    {
     "data": {
      "image/png": "[encoded data removed]",
      "text/plain": [
       "<matplotlib.figure.Figure at 0x118532eb8>"
      ]
     },
     "metadata": {},
     "output_type": "display_data"
    },
    {
     "data": {
      "image/png": "[encoded data removed]",
      "text/plain": [
       "<matplotlib.figure.Figure at 0x118403ba8>"
      ]
     },
     "metadata": {},
     "output_type": "display_data"
    },
    {
     "data": {
      "image/png": "[encoded data removed]",
      "text/plain": [
       "<matplotlib.figure.Figure at 0x11831da58>"
      ]
     },
     "metadata": {},
     "output_type": "display_data"
    },
    {
     "data": {
      "image/png": "[encoded data removed]",
      "text/plain": [
       "<matplotlib.figure.Figure at 0x118523e10>"
      ]
     },
     "metadata": {},
     "output_type": "display_data"
    },
    {
     "data": {
      "image/png": "[encoded data removed]",
      "text/plain": [
       "<matplotlib.figure.Figure at 0x11831d080>"
      ]
     },
     "metadata": {},
     "output_type": "display_data"
    },
    {
     "data": {
      "image/png": "[encoded data removed]",
      "text/plain": [
       "<matplotlib.figure.Figure at 0x11849b978>"
      ]
     },
     "metadata": {},
     "output_type": "display_data"
    },
    {
     "data": {
      "image/png": "[encoded data removed]",
      "text/plain": [
       "<matplotlib.figure.Figure at 0x118295940>"
      ]
     },
     "metadata": {},
     "output_type": "display_data"
    }
   ],
   "source": [
    "#Visually understanding the variation of price with different columns\n",
    "plt.subplots(figsize=[15,5])\n",
    "plt.xticks(rotation=90)\n",
    "sns.boxplot(train.Airline, train.Price)\n",
    "\n",
    "plt.subplots(figsize=[15,5])\n",
    "plt.xticks(rotation=90)\n",
    "sns.boxplot(train.Total_Stops, train.Price)\n",
    "\n",
    "plt.subplots(figsize=[15,5])\n",
    "plt.xticks(rotation=90)\n",
    "plt.plot(train.sort_values(['Date_of_Journey']).Date_of_Journey.unique(), train.groupby(['Date_of_Journey']).mean())\n",
    "\n",
    "plt.subplots(figsize=[15,5])\n",
    "plt.xticks(rotation=90)\n",
    "plt.scatter(train.Date_of_Journey, train.Price)\n",
    "\n",
    "plt.subplots(figsize=[15,5])\n",
    "plt.xticks(rotation=90)\n",
    "sns.boxplot(train.Source, train.Price )\n",
    "\n",
    "plt.subplots(figsize=[15,5])\n",
    "plt.xticks(rotation=90)\n",
    "sns.boxplot(train.Destination, train.Price )\n",
    "\n",
    "plt.subplots(figsize=[15,5])\n",
    "plt.xticks(rotation=90)\n",
    "sns.barplot(train.Additional_Info, train.Price )"
   ]
  },
  {
   "cell_type": "markdown",
   "metadata": {},
   "source": [
    "### Data Treatment and Feature Generation"
   ]
  },
  {
   "cell_type": "code",
   "execution_count": 10,
   "metadata": {},
   "outputs": [
    {
     "data": {
      "text/plain": [
       "\"train['Depart_Time_Hour'] = pd.to_datetime(train.Dep_Time).dt.hour\\ntrain['Depart_Time_Minutes'] = pd.to_datetime(train.Dep_Time).dt.minute\\n\\ntrain['Arr_Time_Hour'] = pd.to_datetime(train.Arrival_Time).dt.hour\\ntrain['Arr_Time_Minutes'] = pd.to_datetime(train.Arrival_Time).dt.minute\""
      ]
     },
     "execution_count": 10,
     "metadata": {},
     "output_type": "execute_result"
    }
   ],
   "source": [
    "\"\"\"train['Depart_Time_Hour'] = pd.to_datetime(train.Dep_Time).dt.hour\n",
    "train['Depart_Time_Minutes'] = pd.to_datetime(train.Dep_Time).dt.minute\n",
    "\n",
    "train['Arr_Time_Hour'] = pd.to_datetime(train.Arrival_Time).dt.hour\n",
    "train['Arr_Time_Minutes'] = pd.to_datetime(train.Arrival_Time).dt.minute\"\"\""
   ]
  },
  {
   "cell_type": "code",
   "execution_count": 11,
   "metadata": {},
   "outputs": [],
   "source": [
    "# Converting Dep_Time from object (string) to time format\n",
    "train.Dep_Time=pd.to_datetime(train.Dep_Time, format= '%H:%M').dt.time"
   ]
  },
  {
   "cell_type": "code",
   "execution_count": 12,
   "metadata": {},
   "outputs": [],
   "source": [
    "# String manipulation to extract only hours and minutes from arrival_time column and dropping the date part, then \n",
    "# converting the string to time format as done above\n",
    "train.Arrival_Time=train.Arrival_Time.str.slice(0,6)\n",
    "train.Arrival_Time=train.Arrival_Time.str.strip()\n",
    "train.Arrival_Time=pd.to_datetime(train.Arrival_Time, format = '%H:%M').dt.time"
   ]
  },
  {
   "cell_type": "code",
   "execution_count": 13,
   "metadata": {},
   "outputs": [],
   "source": [
    "# Converting date of journey to date format\n",
    "train.Date_of_Journey=pd.to_datetime(train.Date_of_Journey,format='%d/%m/%Y').dt.date"
   ]
  },
  {
   "cell_type": "code",
   "execution_count": 14,
   "metadata": {
    "scrolled": false
   },
   "outputs": [
    {
     "name": "stderr",
     "output_type": "stream",
     "text": [
      "/Users/stavyabhatia/anaconda3/lib/python3.6/site-packages/ipykernel_launcher.py:2: FutureWarning: currently extract(expand=None) means expand=False (return Index/Series/DataFrame) but in a future version of pandas this will be changed to expand=True (return DataFrame)\n",
      "  \n",
      "/Users/stavyabhatia/anaconda3/lib/python3.6/site-packages/ipykernel_launcher.py:3: FutureWarning: currently extract(expand=None) means expand=False (return Index/Series/DataFrame) but in a future version of pandas this will be changed to expand=True (return DataFrame)\n",
      "  This is separate from the ipykernel package so we can avoid doing imports until\n"
     ]
    }
   ],
   "source": [
    "# Converting duration from string to integer value in minutes\n",
    "minute=train['Duration'].str.slice(3,).str.extract('(\\d+)')\n",
    "hour=train['Duration'].str.extract('(\\d+)').astype('int')\n",
    "minute=minute.fillna(0) #filling up minute= 0 where the flight duration only had hours\n",
    "train['Duration']=minute.astype('int')+hour*60"
   ]
  },
  {
   "cell_type": "code",
   "execution_count": 15,
   "metadata": {},
   "outputs": [],
   "source": [
    "# Creating column date of arrival by adding date and time of journey with duration in minutes\n",
    "train['Date_of_Arrival']=train.apply(lambda r : pd.datetime.combine(r['Date_of_Journey'],r['Dep_Time']),1) + pd.to_timedelta(train.Duration,unit='m')\n",
    "train['Date_of_Arrival']=train.Date_of_Arrival.dt.date"
   ]
  },
  {
   "cell_type": "code",
   "execution_count": 16,
   "metadata": {
    "scrolled": false
   },
   "outputs": [
    {
     "data": {
      "text/plain": [
       "1 stop      7056\n",
       "non-stop    4340\n",
       "2 stops     1899\n",
       "3 stops       56\n",
       "4 stops        2\n",
       "Name: Total_Stops, dtype: int64"
      ]
     },
     "execution_count": 16,
     "metadata": {},
     "output_type": "execute_result"
    }
   ],
   "source": [
    "# Changing Total Stops from a string value to a categorical value \n",
    "train.Total_Stops.value_counts()"
   ]
  },
  {
   "cell_type": "code",
   "execution_count": 17,
   "metadata": {},
   "outputs": [],
   "source": [
    "dic={'non-stop':0,'2 stops':2,'1 stop':1,'3 stops':3,'4 stops': 4}\n",
    "train['Total_Stops']=train.Total_Stops.map(dic)\n",
    "train.Total_Stops=train.Total_Stops.astype('category')"
   ]
  },
  {
   "cell_type": "code",
   "execution_count": 18,
   "metadata": {},
   "outputs": [],
   "source": [
    "# Creating a column a categorical column class from the column Airline \n",
    "r=train.Airline.str.split(' ',expand=True).get(2)\n",
    "d={None:'Economy','Premium': 'Premium Economy','economy':'Premium Economy','Business':'Business' }\n",
    "r=r.map(d)\n",
    "train['Class']=r\n",
    "train.Class=train.Class.astype('category')"
   ]
  },
  {
   "cell_type": "code",
   "execution_count": 19,
   "metadata": {},
   "outputs": [],
   "source": [
    "# The column Additional info had values No info and No Info stored, editing to bring them to the same string value\n",
    "train.loc[train.Additional_Info==\"No info\",'Additional_Info']=\"No Info\""
   ]
  },
  {
   "cell_type": "code",
   "execution_count": 20,
   "metadata": {},
   "outputs": [],
   "source": [
    "# Creating an integer column same_day_travel that highlights whether the flight was arrived the same day, a day from dep, or more..\n",
    "train['Same_day_travel']=train.Date_of_Arrival-train.Date_of_Journey\n",
    "train['Same_day_travel']=train.Same_day_travel.astype('category')"
   ]
  },
  {
   "cell_type": "code",
   "execution_count": 21,
   "metadata": {},
   "outputs": [],
   "source": [
    "# Converting Airline to category as price varies with airlines ( Category column helps in tree based modelling)\n",
    "train.Airline=train.Airline.astype('category')"
   ]
  },
  {
   "cell_type": "code",
   "execution_count": 22,
   "metadata": {},
   "outputs": [],
   "source": [
    "# Creating 2 columns weekday journey and weekday arrival that highligh what day of the week the flight took off and arrived\n",
    "# respectively. The idea is that the price will be marginally higher on weekends and this metric can help catch that.\n",
    "train['weekday_journey']=train['Date_of_Journey'].apply(lambda x: x.weekday())\n",
    "train['weekday_arrival']=train['Date_of_Arrival'].apply(lambda x: x.weekday())"
   ]
  },
  {
   "cell_type": "code",
   "execution_count": 23,
   "metadata": {},
   "outputs": [],
   "source": [
    "# Creating columns for year, month, and day of both departure and arrival as integers to be able to better \n",
    "# capture any seasonality due to date\n",
    "train['Year']=pd.DatetimeIndex(train['Date_of_Journey']).year\n",
    "train['month_of_journey']=pd.DatetimeIndex(train['Date_of_Journey']).month\n",
    "train['month_of_Arrival']=pd.DatetimeIndex(train['Date_of_Arrival']).month\n",
    "train['day_of_Arrival']=pd.DatetimeIndex(train['Date_of_Arrival']).day\n",
    "train['day_of_journey']=pd.DatetimeIndex(train['Date_of_Journey']).day"
   ]
  },
  {
   "cell_type": "code",
   "execution_count": 24,
   "metadata": {},
   "outputs": [
    {
     "data": {
      "text/plain": [
       "(13354, 21)"
      ]
     },
     "execution_count": 24,
     "metadata": {},
     "output_type": "execute_result"
    }
   ],
   "source": [
    "# Seeing the number of columns generated - (11 more columns were created in the process)\n",
    "train.shape"
   ]
  },
  {
   "cell_type": "code",
   "execution_count": 25,
   "metadata": {},
   "outputs": [
    {
     "data": {
      "text/plain": [
       "\"r=train.groupby(['Date_of_Journey']).Date_of_Journey.apply(lambda x: x.count())\\ntrain['Number_take-offs']=train.Date_of_Journey.map(r)\\nr=train.groupby(['Date_of_Arrival']).Date_of_Arrival.apply(lambda x: x.count())\\ntrain['Number_landings']=train.Date_of_Arrival.map(r)\\n\""
      ]
     },
     "execution_count": 25,
     "metadata": {},
     "output_type": "execute_result"
    }
   ],
   "source": [
    "# Techniques that I tried but didnt help - Number of take offs and landings in a day \n",
    "# - Number of takeoffs by city and landings by city in a day\n",
    "\"\"\"r=train.groupby(['Date_of_Journey']).Date_of_Journey.apply(lambda x: x.count())\n",
    "train['Number_take-offs']=train.Date_of_Journey.map(r)\n",
    "r=train.groupby(['Date_of_Arrival']).Date_of_Arrival.apply(lambda x: x.count())\n",
    "train['Number_landings']=train.Date_of_Arrival.map(r)\n",
    "\"\"\""
   ]
  },
  {
   "cell_type": "code",
   "execution_count": 26,
   "metadata": {},
   "outputs": [
    {
     "data": {
      "text/plain": [
       "'r=train.groupby([\\'Date_of_Journey\\',\\'Source\\'])[\\'Source\\'].count().reset_index(name=\\'Number_takeoff_source\\')\\ntrain=train.merge(r,how=\"left\", on=[\"Date_of_Journey\",\"Source\"])\\nr=train.groupby([\\'Date_of_Arrival\\',\\'Source\\'])[\\'Source\\'].count().reset_index(name=\\'Number_landing_Destination\\')\\ntrain=train.merge(r,how=\"left\", on=[\"Date_of_Arrival\",\"Source\"])\\n'"
      ]
     },
     "execution_count": 26,
     "metadata": {},
     "output_type": "execute_result"
    }
   ],
   "source": [
    "\"\"\"r=train.groupby(['Date_of_Journey','Source'])['Source'].count().reset_index(name='Number_takeoff_source')\n",
    "train=train.merge(r,how=\"left\", on=[\"Date_of_Journey\",\"Source\"])\n",
    "r=train.groupby(['Date_of_Arrival','Source'])['Source'].count().reset_index(name='Number_landing_Destination')\n",
    "train=train.merge(r,how=\"left\", on=[\"Date_of_Arrival\",\"Source\"])\n",
    "\"\"\""
   ]
  },
  {
   "cell_type": "code",
   "execution_count": 27,
   "metadata": {},
   "outputs": [],
   "source": [
    "#train[(train.Date_of_Arrival==datetime.date(2019,3,1))][['Source','Number_landing_Destination']]"
   ]
  },
  {
   "cell_type": "code",
   "execution_count": 28,
   "metadata": {},
   "outputs": [
    {
     "data": {
      "text/plain": [
       "\"plt.subplots(figsize=(12,15))\\nsns.boxplot(train[train.Source=='Delhi'].sort_values(['Date_of_Journey']).Number_takeoff_source,train[train.Source=='Delhi'].sort_values(['Date_of_Journey']).Price)\\nplt.xticks(rotation=90)\""
      ]
     },
     "execution_count": 28,
     "metadata": {},
     "output_type": "execute_result"
    }
   ],
   "source": [
    "\"\"\"plt.subplots(figsize=(12,15))\n",
    "sns.boxplot(train[train.Source=='Delhi'].sort_values(['Date_of_Journey']).Number_takeoff_source,train[train.Source=='Delhi'].sort_values(['Date_of_Journey']).Price)\n",
    "plt.xticks(rotation=90)\"\"\""
   ]
  },
  {
   "cell_type": "markdown",
   "metadata": {},
   "source": [
    "### Target Variable Normalization"
   ]
  },
  {
   "cell_type": "code",
   "execution_count": 29,
   "metadata": {
    "scrolled": true
   },
   "outputs": [
    {
     "data": {
      "image/png": "[encoded data removed]",
      "text/plain": [
       "<matplotlib.figure.Figure at 0x118347e80>"
      ]
     },
     "metadata": {},
     "output_type": "display_data"
    },
    {
     "data": {
      "text/plain": [
       "((array([-3.82690953, -3.60266143, -3.4795895 , ...,  3.4795895 ,\n",
       "          3.60266143,  3.82690953]),\n",
       "  array([ 1759.,  1759.,  1759., ..., 57209., 62427., 79512.])),\n",
       " (4364.062692425855, 9087.064120565383, 0.9460976378917301))"
      ]
     },
     "execution_count": 29,
     "metadata": {},
     "output_type": "execute_result"
    },
    {
     "data": {
      "image/png": "[encoded data removed]",
      "text/plain": [
       "<matplotlib.figure.Figure at 0x1182c2c88>"
      ]
     },
     "metadata": {},
     "output_type": "display_data"
    }
   ],
   "source": [
    "sns.distplot(train[:len_train].Price, fit=stats.norm)\n",
    "l=plt.show()\n",
    "stats.probplot(train[:len_train].Price,plot=plt )"
   ]
  },
  {
   "cell_type": "code",
   "execution_count": 30,
   "metadata": {
    "scrolled": true
   },
   "outputs": [
    {
     "data": {
      "image/png": "[encoded data removed]",
      "text/plain": [
       "<matplotlib.figure.Figure at 0x118425e80>"
      ]
     },
     "metadata": {},
     "output_type": "display_data"
    },
    {
     "data": {
      "image/png": "[encoded data removed]",
      "text/plain": [
       "<matplotlib.figure.Figure at 0x11bf431d0>"
      ]
     },
     "metadata": {},
     "output_type": "display_data"
    }
   ],
   "source": [
    "xt=np.log(train[:len_train].Price)\n",
    "sns.distplot(xt, fit=stats.norm)\n",
    "l=plt.show()\n",
    "stats.probplot(xt,plot=plt )\n",
    "\n",
    "train.Price=np.log(train.Price)"
   ]
  },
  {
   "cell_type": "markdown",
   "metadata": {},
   "source": [
    "### Null Value Treatment"
   ]
  },
  {
   "cell_type": "code",
   "execution_count": 31,
   "metadata": {
    "scrolled": true
   },
   "outputs": [
    {
     "data": {
      "text/plain": [
       "Additional_Info        0\n",
       "Airline                0\n",
       "Arrival_Time           0\n",
       "Date_of_Journey        0\n",
       "Dep_Time               0\n",
       "Destination            0\n",
       "Duration               0\n",
       "Price               2671\n",
       "Route                  1\n",
       "Source                 0\n",
       "Total_Stops            1\n",
       "Date_of_Arrival        0\n",
       "Class                  0\n",
       "Same_day_travel        0\n",
       "weekday_journey        0\n",
       "weekday_arrival        0\n",
       "Year                   0\n",
       "month_of_journey       0\n",
       "month_of_Arrival       0\n",
       "day_of_Arrival         0\n",
       "day_of_journey         0\n",
       "dtype: int64"
      ]
     },
     "execution_count": 31,
     "metadata": {},
     "output_type": "execute_result"
    }
   ],
   "source": [
    "##Identifying columns with missing values\n",
    "train.isnull().sum()"
   ]
  },
  {
   "cell_type": "code",
   "execution_count": 32,
   "metadata": {},
   "outputs": [
    {
     "data": {
      "text/html": [
       "<div>\n",
       "<style scoped>\n",
       "    .dataframe tbody tr th:only-of-type {\n",
       "        vertical-align: middle;\n",
       "    }\n",
       "\n",
       "    .dataframe tbody tr th {\n",
       "        vertical-align: top;\n",
       "    }\n",
       "\n",
       "    .dataframe thead th {\n",
       "        text-align: right;\n",
       "    }\n",
       "</style>\n",
       "<table border=\"1\" class=\"dataframe\">\n",
       "  <thead>\n",
       "    <tr style=\"text-align: right;\">\n",
       "      <th></th>\n",
       "      <th>Additional_Info</th>\n",
       "      <th>Airline</th>\n",
       "      <th>Arrival_Time</th>\n",
       "      <th>Date_of_Journey</th>\n",
       "      <th>Dep_Time</th>\n",
       "      <th>Destination</th>\n",
       "      <th>Duration</th>\n",
       "      <th>Price</th>\n",
       "      <th>Route</th>\n",
       "      <th>Source</th>\n",
       "      <th>...</th>\n",
       "      <th>Date_of_Arrival</th>\n",
       "      <th>Class</th>\n",
       "      <th>Same_day_travel</th>\n",
       "      <th>weekday_journey</th>\n",
       "      <th>weekday_arrival</th>\n",
       "      <th>Year</th>\n",
       "      <th>month_of_journey</th>\n",
       "      <th>month_of_Arrival</th>\n",
       "      <th>day_of_Arrival</th>\n",
       "      <th>day_of_journey</th>\n",
       "    </tr>\n",
       "  </thead>\n",
       "  <tbody>\n",
       "    <tr>\n",
       "      <th>9039</th>\n",
       "      <td>No Info</td>\n",
       "      <td>Air India</td>\n",
       "      <td>09:25:00</td>\n",
       "      <td>2019-05-06</td>\n",
       "      <td>09:45:00</td>\n",
       "      <td>Cochin</td>\n",
       "      <td>1420</td>\n",
       "      <td>8.919988</td>\n",
       "      <td>NaN</td>\n",
       "      <td>Delhi</td>\n",
       "      <td>...</td>\n",
       "      <td>2019-05-07</td>\n",
       "      <td>Economy</td>\n",
       "      <td>1 days</td>\n",
       "      <td>0</td>\n",
       "      <td>1</td>\n",
       "      <td>2019</td>\n",
       "      <td>5</td>\n",
       "      <td>5</td>\n",
       "      <td>7</td>\n",
       "      <td>6</td>\n",
       "    </tr>\n",
       "    <tr>\n",
       "      <th>10348</th>\n",
       "      <td>No Info</td>\n",
       "      <td>Air India</td>\n",
       "      <td>09:25:00</td>\n",
       "      <td>2019-05-09</td>\n",
       "      <td>09:45:00</td>\n",
       "      <td>Cochin</td>\n",
       "      <td>1420</td>\n",
       "      <td>9.202812</td>\n",
       "      <td>DEL → HYD → MAA → COK</td>\n",
       "      <td>Delhi</td>\n",
       "      <td>...</td>\n",
       "      <td>2019-05-10</td>\n",
       "      <td>Economy</td>\n",
       "      <td>1 days</td>\n",
       "      <td>3</td>\n",
       "      <td>4</td>\n",
       "      <td>2019</td>\n",
       "      <td>5</td>\n",
       "      <td>5</td>\n",
       "      <td>10</td>\n",
       "      <td>9</td>\n",
       "    </tr>\n",
       "    <tr>\n",
       "      <th>12318</th>\n",
       "      <td>No Info</td>\n",
       "      <td>Air India</td>\n",
       "      <td>09:25:00</td>\n",
       "      <td>2019-05-09</td>\n",
       "      <td>09:45:00</td>\n",
       "      <td>Cochin</td>\n",
       "      <td>1420</td>\n",
       "      <td>NaN</td>\n",
       "      <td>DEL → MAA → COK</td>\n",
       "      <td>Delhi</td>\n",
       "      <td>...</td>\n",
       "      <td>2019-05-10</td>\n",
       "      <td>Economy</td>\n",
       "      <td>1 days</td>\n",
       "      <td>3</td>\n",
       "      <td>4</td>\n",
       "      <td>2019</td>\n",
       "      <td>5</td>\n",
       "      <td>5</td>\n",
       "      <td>10</td>\n",
       "      <td>9</td>\n",
       "    </tr>\n",
       "    <tr>\n",
       "      <th>2343</th>\n",
       "      <td>No Info</td>\n",
       "      <td>Air India</td>\n",
       "      <td>09:25:00</td>\n",
       "      <td>2019-05-15</td>\n",
       "      <td>09:45:00</td>\n",
       "      <td>Cochin</td>\n",
       "      <td>1420</td>\n",
       "      <td>9.303375</td>\n",
       "      <td>DEL → HYD → MAA → COK</td>\n",
       "      <td>Delhi</td>\n",
       "      <td>...</td>\n",
       "      <td>2019-05-16</td>\n",
       "      <td>Economy</td>\n",
       "      <td>1 days</td>\n",
       "      <td>2</td>\n",
       "      <td>3</td>\n",
       "      <td>2019</td>\n",
       "      <td>5</td>\n",
       "      <td>5</td>\n",
       "      <td>16</td>\n",
       "      <td>15</td>\n",
       "    </tr>\n",
       "    <tr>\n",
       "      <th>2554</th>\n",
       "      <td>No Info</td>\n",
       "      <td>Air India</td>\n",
       "      <td>09:25:00</td>\n",
       "      <td>2019-05-15</td>\n",
       "      <td>09:45:00</td>\n",
       "      <td>Cochin</td>\n",
       "      <td>1420</td>\n",
       "      <td>8.919988</td>\n",
       "      <td>DEL → MAA → COK</td>\n",
       "      <td>Delhi</td>\n",
       "      <td>...</td>\n",
       "      <td>2019-05-16</td>\n",
       "      <td>Economy</td>\n",
       "      <td>1 days</td>\n",
       "      <td>2</td>\n",
       "      <td>3</td>\n",
       "      <td>2019</td>\n",
       "      <td>5</td>\n",
       "      <td>5</td>\n",
       "      <td>16</td>\n",
       "      <td>15</td>\n",
       "    </tr>\n",
       "    <tr>\n",
       "      <th>3595</th>\n",
       "      <td>No Info</td>\n",
       "      <td>Air India</td>\n",
       "      <td>09:25:00</td>\n",
       "      <td>2019-05-18</td>\n",
       "      <td>09:45:00</td>\n",
       "      <td>Cochin</td>\n",
       "      <td>1420</td>\n",
       "      <td>9.032648</td>\n",
       "      <td>DEL → MAA → COK</td>\n",
       "      <td>Delhi</td>\n",
       "      <td>...</td>\n",
       "      <td>2019-05-19</td>\n",
       "      <td>Economy</td>\n",
       "      <td>1 days</td>\n",
       "      <td>5</td>\n",
       "      <td>6</td>\n",
       "      <td>2019</td>\n",
       "      <td>5</td>\n",
       "      <td>5</td>\n",
       "      <td>19</td>\n",
       "      <td>18</td>\n",
       "    </tr>\n",
       "    <tr>\n",
       "      <th>9717</th>\n",
       "      <td>No Info</td>\n",
       "      <td>Air India</td>\n",
       "      <td>09:25:00</td>\n",
       "      <td>2019-05-18</td>\n",
       "      <td>09:45:00</td>\n",
       "      <td>Cochin</td>\n",
       "      <td>1420</td>\n",
       "      <td>9.303375</td>\n",
       "      <td>DEL → HYD → MAA → COK</td>\n",
       "      <td>Delhi</td>\n",
       "      <td>...</td>\n",
       "      <td>2019-05-19</td>\n",
       "      <td>Economy</td>\n",
       "      <td>1 days</td>\n",
       "      <td>5</td>\n",
       "      <td>6</td>\n",
       "      <td>2019</td>\n",
       "      <td>5</td>\n",
       "      <td>5</td>\n",
       "      <td>19</td>\n",
       "      <td>18</td>\n",
       "    </tr>\n",
       "    <tr>\n",
       "      <th>8135</th>\n",
       "      <td>No Info</td>\n",
       "      <td>Air India</td>\n",
       "      <td>09:25:00</td>\n",
       "      <td>2019-05-21</td>\n",
       "      <td>09:45:00</td>\n",
       "      <td>Cochin</td>\n",
       "      <td>1420</td>\n",
       "      <td>9.303375</td>\n",
       "      <td>DEL → HYD → MAA → COK</td>\n",
       "      <td>Delhi</td>\n",
       "      <td>...</td>\n",
       "      <td>2019-05-22</td>\n",
       "      <td>Economy</td>\n",
       "      <td>1 days</td>\n",
       "      <td>1</td>\n",
       "      <td>2</td>\n",
       "      <td>2019</td>\n",
       "      <td>5</td>\n",
       "      <td>5</td>\n",
       "      <td>22</td>\n",
       "      <td>21</td>\n",
       "    </tr>\n",
       "    <tr>\n",
       "      <th>1616</th>\n",
       "      <td>No Info</td>\n",
       "      <td>Air India</td>\n",
       "      <td>09:25:00</td>\n",
       "      <td>2019-05-24</td>\n",
       "      <td>09:45:00</td>\n",
       "      <td>Cochin</td>\n",
       "      <td>1420</td>\n",
       "      <td>8.919988</td>\n",
       "      <td>DEL → MAA → COK</td>\n",
       "      <td>Delhi</td>\n",
       "      <td>...</td>\n",
       "      <td>2019-05-25</td>\n",
       "      <td>Economy</td>\n",
       "      <td>1 days</td>\n",
       "      <td>4</td>\n",
       "      <td>5</td>\n",
       "      <td>2019</td>\n",
       "      <td>5</td>\n",
       "      <td>5</td>\n",
       "      <td>25</td>\n",
       "      <td>24</td>\n",
       "    </tr>\n",
       "  </tbody>\n",
       "</table>\n",
       "<p>9 rows × 21 columns</p>\n",
       "</div>"
      ],
      "text/plain": [
       "      Additional_Info    Airline Arrival_Time Date_of_Journey  Dep_Time  \\\n",
       "9039          No Info  Air India     09:25:00      2019-05-06  09:45:00   \n",
       "10348         No Info  Air India     09:25:00      2019-05-09  09:45:00   \n",
       "12318         No Info  Air India     09:25:00      2019-05-09  09:45:00   \n",
       "2343          No Info  Air India     09:25:00      2019-05-15  09:45:00   \n",
       "2554          No Info  Air India     09:25:00      2019-05-15  09:45:00   \n",
       "3595          No Info  Air India     09:25:00      2019-05-18  09:45:00   \n",
       "9717          No Info  Air India     09:25:00      2019-05-18  09:45:00   \n",
       "8135          No Info  Air India     09:25:00      2019-05-21  09:45:00   \n",
       "1616          No Info  Air India     09:25:00      2019-05-24  09:45:00   \n",
       "\n",
       "      Destination  Duration     Price                  Route Source  \\\n",
       "9039       Cochin      1420  8.919988                    NaN  Delhi   \n",
       "10348      Cochin      1420  9.202812  DEL → HYD → MAA → COK  Delhi   \n",
       "12318      Cochin      1420       NaN        DEL → MAA → COK  Delhi   \n",
       "2343       Cochin      1420  9.303375  DEL → HYD → MAA → COK  Delhi   \n",
       "2554       Cochin      1420  8.919988        DEL → MAA → COK  Delhi   \n",
       "3595       Cochin      1420  9.032648        DEL → MAA → COK  Delhi   \n",
       "9717       Cochin      1420  9.303375  DEL → HYD → MAA → COK  Delhi   \n",
       "8135       Cochin      1420  9.303375  DEL → HYD → MAA → COK  Delhi   \n",
       "1616       Cochin      1420  8.919988        DEL → MAA → COK  Delhi   \n",
       "\n",
       "            ...       Date_of_Arrival    Class Same_day_travel  \\\n",
       "9039        ...            2019-05-07  Economy          1 days   \n",
       "10348       ...            2019-05-10  Economy          1 days   \n",
       "12318       ...            2019-05-10  Economy          1 days   \n",
       "2343        ...            2019-05-16  Economy          1 days   \n",
       "2554        ...            2019-05-16  Economy          1 days   \n",
       "3595        ...            2019-05-19  Economy          1 days   \n",
       "9717        ...            2019-05-19  Economy          1 days   \n",
       "8135        ...            2019-05-22  Economy          1 days   \n",
       "1616        ...            2019-05-25  Economy          1 days   \n",
       "\n",
       "      weekday_journey  weekday_arrival  Year  month_of_journey  \\\n",
       "9039                0                1  2019                 5   \n",
       "10348               3                4  2019                 5   \n",
       "12318               3                4  2019                 5   \n",
       "2343                2                3  2019                 5   \n",
       "2554                2                3  2019                 5   \n",
       "3595                5                6  2019                 5   \n",
       "9717                5                6  2019                 5   \n",
       "8135                1                2  2019                 5   \n",
       "1616                4                5  2019                 5   \n",
       "\n",
       "       month_of_Arrival  day_of_Arrival  day_of_journey  \n",
       "9039                  5               7               6  \n",
       "10348                 5              10               9  \n",
       "12318                 5              10               9  \n",
       "2343                  5              16              15  \n",
       "2554                  5              16              15  \n",
       "3595                  5              19              18  \n",
       "9717                  5              19              18  \n",
       "8135                  5              22              21  \n",
       "1616                  5              25              24  \n",
       "\n",
       "[9 rows x 21 columns]"
      ]
     },
     "execution_count": 32,
     "metadata": {},
     "output_type": "execute_result"
    }
   ],
   "source": [
    "# Filtering data with missing value and filling up with appropriate values as determined\n",
    "train.loc[(train.Source=='Delhi') & (train.Destination=='Cochin') & (pd.DatetimeIndex(train['Date_of_Journey']).month==5)& (train.Duration==1420) &(train.Airline=='Air India') ].sort_values(['Date_of_Journey'])\n"
   ]
  },
  {
   "cell_type": "code",
   "execution_count": 33,
   "metadata": {},
   "outputs": [],
   "source": [
    "train.Route=train.Route.fillna('DEL → MAA → COK')\n",
    "train.loc[train.Total_Stops.isnull(),'Total_Stops']=1"
   ]
  },
  {
   "cell_type": "markdown",
   "metadata": {},
   "source": [
    "### Outlier Treatment- Did not Use for modelling"
   ]
  },
  {
   "cell_type": "code",
   "execution_count": 34,
   "metadata": {},
   "outputs": [
    {
     "data": {
      "text/plain": [
       "'#Outlier Treatment\\nx_out=pd.get_dummies(train[:len_train].drop(\\'Price\\',axis=1))\\ny_out=train[:len_train].Price\\n\\nenet= ElasticNet(max_iter=1000,alpha=0.001,l1_ratio=0)\\n\\nenet.fit(x_out,y_out)\\ny_pred=enet.predict(x_out)\\nresid=y_out-y_pred\\nz=(resid-resid.mean())/resid.std()\\nz=np.array(z)\\noutlier=np.where(abs(z)>abs(z).std()*5)[0]\\n\\nplt.figure(figsize=(6, 6))\\nplt.scatter(y_out, y_pred)\\nplt.scatter(y_out.iloc[outlier], y_pred[outlier])\\nplt.plot(range(7, 12), range(7, 12), color=\"red\")'"
      ]
     },
     "execution_count": 34,
     "metadata": {},
     "output_type": "execute_result"
    }
   ],
   "source": [
    "\"\"\"#Outlier Treatment\n",
    "x_out=pd.get_dummies(train[:len_train].drop('Price',axis=1))\n",
    "y_out=train[:len_train].Price\n",
    "\n",
    "enet= ElasticNet(max_iter=1000,alpha=0.001,l1_ratio=0)\n",
    "\n",
    "enet.fit(x_out,y_out)\n",
    "y_pred=enet.predict(x_out)\n",
    "resid=y_out-y_pred\n",
    "z=(resid-resid.mean())/resid.std()\n",
    "z=np.array(z)\n",
    "outlier=np.where(abs(z)>abs(z).std()*5)[0]\n",
    "\n",
    "plt.figure(figsize=(6, 6))\n",
    "plt.scatter(y_out, y_pred)\n",
    "plt.scatter(y_out.iloc[outlier], y_pred[outlier])\n",
    "plt.plot(range(7, 12), range(7, 12), color=\"red\")\"\"\""
   ]
  },
  {
   "cell_type": "code",
   "execution_count": 35,
   "metadata": {},
   "outputs": [
    {
     "data": {
      "text/plain": [
       "'ridge=Ridge(alpha=1)\\n\\nridge.fit(x_out,y_out)\\ny_pred=ridge.predict(x_out)\\nresid=y_out-y_pred\\nz=(resid-resid.mean())/resid.std()\\nz=np.array(z)\\noutlier2=np.where(abs(z)>abs(z).std()*5)[0]\\nlen(outlier2)\\n\\nplt.figure(figsize=(6, 6))\\nplt.scatter(y_out, y_pred)\\nplt.scatter(y_out.iloc[outlier2], y_pred[outlier2])\\nplt.plot(range(7, 12), range(7, 12), color=\"red\")'"
      ]
     },
     "execution_count": 35,
     "metadata": {},
     "output_type": "execute_result"
    }
   ],
   "source": [
    "\"\"\"ridge=Ridge(alpha=1)\n",
    "\n",
    "ridge.fit(x_out,y_out)\n",
    "y_pred=ridge.predict(x_out)\n",
    "resid=y_out-y_pred\n",
    "z=(resid-resid.mean())/resid.std()\n",
    "z=np.array(z)\n",
    "outlier2=np.where(abs(z)>abs(z).std()*5)[0]\n",
    "len(outlier2)\n",
    "\n",
    "plt.figure(figsize=(6, 6))\n",
    "plt.scatter(y_out, y_pred)\n",
    "plt.scatter(y_out.iloc[outlier2], y_pred[outlier2])\n",
    "plt.plot(range(7, 12), range(7, 12), color=\"red\")\"\"\""
   ]
  },
  {
   "cell_type": "code",
   "execution_count": 36,
   "metadata": {},
   "outputs": [
    {
     "data": {
      "text/plain": [
       "'outlier_final=[]\\nfor i in outlier:\\n    for j in outlier2:\\n        if i==j:\\n            outlier_final.append(i)\\n(outlier_final)'"
      ]
     },
     "execution_count": 36,
     "metadata": {},
     "output_type": "execute_result"
    }
   ],
   "source": [
    "\"\"\"outlier_final=[]\n",
    "for i in outlier:\n",
    "    for j in outlier2:\n",
    "        if i==j:\n",
    "            outlier_final.append(i)\n",
    "(outlier_final)\"\"\""
   ]
  },
  {
   "cell_type": "code",
   "execution_count": 37,
   "metadata": {
    "scrolled": true
   },
   "outputs": [
    {
     "data": {
      "text/html": [
       "<div>\n",
       "<style scoped>\n",
       "    .dataframe tbody tr th:only-of-type {\n",
       "        vertical-align: middle;\n",
       "    }\n",
       "\n",
       "    .dataframe tbody tr th {\n",
       "        vertical-align: top;\n",
       "    }\n",
       "\n",
       "    .dataframe thead th {\n",
       "        text-align: right;\n",
       "    }\n",
       "</style>\n",
       "<table border=\"1\" class=\"dataframe\">\n",
       "  <thead>\n",
       "    <tr style=\"text-align: right;\">\n",
       "      <th></th>\n",
       "      <th>Additional_Info</th>\n",
       "      <th>Airline</th>\n",
       "      <th>Arrival_Time</th>\n",
       "      <th>Date_of_Journey</th>\n",
       "      <th>Dep_Time</th>\n",
       "      <th>Destination</th>\n",
       "      <th>Duration</th>\n",
       "      <th>Price</th>\n",
       "      <th>Route</th>\n",
       "      <th>Source</th>\n",
       "      <th>...</th>\n",
       "      <th>Date_of_Arrival</th>\n",
       "      <th>Class</th>\n",
       "      <th>Same_day_travel</th>\n",
       "      <th>weekday_journey</th>\n",
       "      <th>weekday_arrival</th>\n",
       "      <th>Year</th>\n",
       "      <th>month_of_journey</th>\n",
       "      <th>month_of_Arrival</th>\n",
       "      <th>day_of_Arrival</th>\n",
       "      <th>day_of_journey</th>\n",
       "    </tr>\n",
       "  </thead>\n",
       "  <tbody>\n",
       "    <tr>\n",
       "      <th>0</th>\n",
       "      <td>No Info</td>\n",
       "      <td>IndiGo</td>\n",
       "      <td>01:10:00</td>\n",
       "      <td>2019-03-24</td>\n",
       "      <td>22:20:00</td>\n",
       "      <td>New Delhi</td>\n",
       "      <td>170</td>\n",
       "      <td>8.267962</td>\n",
       "      <td>BLR → DEL</td>\n",
       "      <td>Banglore</td>\n",
       "      <td>...</td>\n",
       "      <td>2019-03-25</td>\n",
       "      <td>Economy</td>\n",
       "      <td>1 days</td>\n",
       "      <td>6</td>\n",
       "      <td>0</td>\n",
       "      <td>2019</td>\n",
       "      <td>3</td>\n",
       "      <td>3</td>\n",
       "      <td>25</td>\n",
       "      <td>24</td>\n",
       "    </tr>\n",
       "    <tr>\n",
       "      <th>1</th>\n",
       "      <td>No Info</td>\n",
       "      <td>Air India</td>\n",
       "      <td>13:15:00</td>\n",
       "      <td>2019-05-01</td>\n",
       "      <td>05:50:00</td>\n",
       "      <td>Banglore</td>\n",
       "      <td>445</td>\n",
       "      <td>8.944028</td>\n",
       "      <td>CCU → IXR → BBI → BLR</td>\n",
       "      <td>Kolkata</td>\n",
       "      <td>...</td>\n",
       "      <td>2019-05-01</td>\n",
       "      <td>Economy</td>\n",
       "      <td>0 days</td>\n",
       "      <td>2</td>\n",
       "      <td>2</td>\n",
       "      <td>2019</td>\n",
       "      <td>5</td>\n",
       "      <td>5</td>\n",
       "      <td>1</td>\n",
       "      <td>1</td>\n",
       "    </tr>\n",
       "    <tr>\n",
       "      <th>2</th>\n",
       "      <td>No Info</td>\n",
       "      <td>Jet Airways</td>\n",
       "      <td>04:25:00</td>\n",
       "      <td>2019-06-09</td>\n",
       "      <td>09:25:00</td>\n",
       "      <td>Cochin</td>\n",
       "      <td>1140</td>\n",
       "      <td>9.538348</td>\n",
       "      <td>DEL → LKO → BOM → COK</td>\n",
       "      <td>Delhi</td>\n",
       "      <td>...</td>\n",
       "      <td>2019-06-10</td>\n",
       "      <td>Economy</td>\n",
       "      <td>1 days</td>\n",
       "      <td>6</td>\n",
       "      <td>0</td>\n",
       "      <td>2019</td>\n",
       "      <td>6</td>\n",
       "      <td>6</td>\n",
       "      <td>10</td>\n",
       "      <td>9</td>\n",
       "    </tr>\n",
       "    <tr>\n",
       "      <th>3</th>\n",
       "      <td>No Info</td>\n",
       "      <td>IndiGo</td>\n",
       "      <td>23:30:00</td>\n",
       "      <td>2019-05-12</td>\n",
       "      <td>18:05:00</td>\n",
       "      <td>Banglore</td>\n",
       "      <td>325</td>\n",
       "      <td>8.735204</td>\n",
       "      <td>CCU → NAG → BLR</td>\n",
       "      <td>Kolkata</td>\n",
       "      <td>...</td>\n",
       "      <td>2019-05-12</td>\n",
       "      <td>Economy</td>\n",
       "      <td>0 days</td>\n",
       "      <td>6</td>\n",
       "      <td>6</td>\n",
       "      <td>2019</td>\n",
       "      <td>5</td>\n",
       "      <td>5</td>\n",
       "      <td>12</td>\n",
       "      <td>12</td>\n",
       "    </tr>\n",
       "    <tr>\n",
       "      <th>4</th>\n",
       "      <td>No Info</td>\n",
       "      <td>IndiGo</td>\n",
       "      <td>21:35:00</td>\n",
       "      <td>2019-03-01</td>\n",
       "      <td>16:50:00</td>\n",
       "      <td>New Delhi</td>\n",
       "      <td>285</td>\n",
       "      <td>9.495670</td>\n",
       "      <td>BLR → NAG → DEL</td>\n",
       "      <td>Banglore</td>\n",
       "      <td>...</td>\n",
       "      <td>2019-03-01</td>\n",
       "      <td>Economy</td>\n",
       "      <td>0 days</td>\n",
       "      <td>4</td>\n",
       "      <td>4</td>\n",
       "      <td>2019</td>\n",
       "      <td>3</td>\n",
       "      <td>3</td>\n",
       "      <td>1</td>\n",
       "      <td>1</td>\n",
       "    </tr>\n",
       "  </tbody>\n",
       "</table>\n",
       "<p>5 rows × 21 columns</p>\n",
       "</div>"
      ],
      "text/plain": [
       "  Additional_Info      Airline Arrival_Time Date_of_Journey  Dep_Time  \\\n",
       "0         No Info       IndiGo     01:10:00      2019-03-24  22:20:00   \n",
       "1         No Info    Air India     13:15:00      2019-05-01  05:50:00   \n",
       "2         No Info  Jet Airways     04:25:00      2019-06-09  09:25:00   \n",
       "3         No Info       IndiGo     23:30:00      2019-05-12  18:05:00   \n",
       "4         No Info       IndiGo     21:35:00      2019-03-01  16:50:00   \n",
       "\n",
       "  Destination  Duration     Price                  Route    Source  \\\n",
       "0   New Delhi       170  8.267962              BLR → DEL  Banglore   \n",
       "1    Banglore       445  8.944028  CCU → IXR → BBI → BLR   Kolkata   \n",
       "2      Cochin      1140  9.538348  DEL → LKO → BOM → COK     Delhi   \n",
       "3    Banglore       325  8.735204        CCU → NAG → BLR   Kolkata   \n",
       "4   New Delhi       285  9.495670        BLR → NAG → DEL  Banglore   \n",
       "\n",
       "        ...       Date_of_Arrival    Class Same_day_travel weekday_journey  \\\n",
       "0       ...            2019-03-25  Economy          1 days               6   \n",
       "1       ...            2019-05-01  Economy          0 days               2   \n",
       "2       ...            2019-06-10  Economy          1 days               6   \n",
       "3       ...            2019-05-12  Economy          0 days               6   \n",
       "4       ...            2019-03-01  Economy          0 days               4   \n",
       "\n",
       "   weekday_arrival  Year  month_of_journey  month_of_Arrival  day_of_Arrival  \\\n",
       "0                0  2019                 3                 3              25   \n",
       "1                2  2019                 5                 5               1   \n",
       "2                0  2019                 6                 6              10   \n",
       "3                6  2019                 5                 5              12   \n",
       "4                4  2019                 3                 3               1   \n",
       "\n",
       "   day_of_journey  \n",
       "0              24  \n",
       "1               1  \n",
       "2               9  \n",
       "3              12  \n",
       "4               1  \n",
       "\n",
       "[5 rows x 21 columns]"
      ]
     },
     "execution_count": 37,
     "metadata": {},
     "output_type": "execute_result"
    }
   ],
   "source": [
    "train.head()"
   ]
  },
  {
   "cell_type": "markdown",
   "metadata": {},
   "source": [
    "### Skew Treatment (BOXCOX Transform)"
   ]
  },
  {
   "cell_type": "code",
   "execution_count": 38,
   "metadata": {},
   "outputs": [
    {
     "name": "stdout",
     "output_type": "stream",
     "text": [
      "                      skew\n",
      "Duration          0.867995\n",
      "day_of_journey    0.135127\n",
      "day_of_Arrival    0.132062\n",
      "weekday_journey   0.040376\n",
      "weekday_arrival   0.030020\n",
      "Year              0.000000\n",
      "month_of_Arrival -0.390640\n",
      "month_of_journey -0.390640\n"
     ]
    },
    {
     "data": {
      "text/html": [
       "<div>\n",
       "<style scoped>\n",
       "    .dataframe tbody tr th:only-of-type {\n",
       "        vertical-align: middle;\n",
       "    }\n",
       "\n",
       "    .dataframe tbody tr th {\n",
       "        vertical-align: top;\n",
       "    }\n",
       "\n",
       "    .dataframe thead th {\n",
       "        text-align: right;\n",
       "    }\n",
       "</style>\n",
       "<table border=\"1\" class=\"dataframe\">\n",
       "  <thead>\n",
       "    <tr style=\"text-align: right;\">\n",
       "      <th></th>\n",
       "      <th>skew</th>\n",
       "    </tr>\n",
       "  </thead>\n",
       "  <tbody>\n",
       "    <tr>\n",
       "      <th>day_of_journey</th>\n",
       "      <td>0.135127</td>\n",
       "    </tr>\n",
       "    <tr>\n",
       "      <th>day_of_Arrival</th>\n",
       "      <td>0.132062</td>\n",
       "    </tr>\n",
       "    <tr>\n",
       "      <th>Duration</th>\n",
       "      <td>0.054899</td>\n",
       "    </tr>\n",
       "    <tr>\n",
       "      <th>weekday_journey</th>\n",
       "      <td>0.040376</td>\n",
       "    </tr>\n",
       "    <tr>\n",
       "      <th>weekday_arrival</th>\n",
       "      <td>0.030020</td>\n",
       "    </tr>\n",
       "    <tr>\n",
       "      <th>Year</th>\n",
       "      <td>0.000000</td>\n",
       "    </tr>\n",
       "    <tr>\n",
       "      <th>month_of_Arrival</th>\n",
       "      <td>-0.105846</td>\n",
       "    </tr>\n",
       "    <tr>\n",
       "      <th>month_of_journey</th>\n",
       "      <td>-0.105846</td>\n",
       "    </tr>\n",
       "  </tbody>\n",
       "</table>\n",
       "</div>"
      ],
      "text/plain": [
       "                      skew\n",
       "day_of_journey    0.135127\n",
       "day_of_Arrival    0.132062\n",
       "Duration          0.054899\n",
       "weekday_journey   0.040376\n",
       "weekday_arrival   0.030020\n",
       "Year              0.000000\n",
       "month_of_Arrival -0.105846\n",
       "month_of_journey -0.105846"
      ]
     },
     "execution_count": 38,
     "metadata": {},
     "output_type": "execute_result"
    }
   ],
   "source": [
    "numeric_dtypes = ['int16', 'int32', 'int64', 'float16', 'float32', 'float64']\n",
    "numerics2 = []\n",
    "for i in train.columns:\n",
    "    if i!='Price':\n",
    "        if train[i].dtype in numeric_dtypes: \n",
    "            numerics2.append(i)\n",
    "\n",
    "skew_features = train[numerics2].apply(lambda x: skew(x)).sort_values(ascending=False)\n",
    "skews = pd.DataFrame({'skew':skew_features})\n",
    "print(skews)\n",
    "\n",
    "high_skew = skew_features[abs(skew_features) > 0.3]\n",
    "high_skew = high_skew\n",
    "skew_index = high_skew.index\n",
    "\n",
    "for i in skew_index:\n",
    "     if i!='=Price':\n",
    "        train[i]= boxcox1p(train[i], boxcox_normmax(train[i]+1))\n",
    "\n",
    "        \n",
    "skew_features2 = train[numerics2].apply(lambda x: skew(x)).sort_values(ascending=False)\n",
    "skews2 = pd.DataFrame({'skew':skew_features2})\n",
    "skews2\n"
   ]
  },
  {
   "cell_type": "markdown",
   "metadata": {},
   "source": [
    "### Data preperation for Modelling and Modelling"
   ]
  },
  {
   "cell_type": "code",
   "execution_count": 39,
   "metadata": {},
   "outputs": [],
   "source": [
    "# Creating a sparse matrix using pandas get dummies function that helps split string columns into boolean values.\n",
    "df=pd.get_dummies(train)"
   ]
  },
  {
   "cell_type": "code",
   "execution_count": 40,
   "metadata": {},
   "outputs": [],
   "source": [
    "# Splitting test and train data\n",
    "train_df=df[:len_train]\n",
    "test_df=df[len_train:]"
   ]
  },
  {
   "cell_type": "code",
   "execution_count": 41,
   "metadata": {},
   "outputs": [],
   "source": [
    "# Removing Price from independent variable data and keeping only price in the other\n",
    "x=train_df.drop('Price',axis=1)\n",
    "y=train_df['Price']"
   ]
  },
  {
   "cell_type": "code",
   "execution_count": 42,
   "metadata": {},
   "outputs": [],
   "source": [
    "#model training "
   ]
  },
  {
   "cell_type": "code",
   "execution_count": 43,
   "metadata": {},
   "outputs": [],
   "source": [
    "# Writing a function to evaluate model performance using KFOLD and cross validation\n",
    "def rmsle_cv(model):\n",
    "    kfold=KFold(n_splits=2, shuffle=True, random_state=10).get_n_splits(x)\n",
    "    rmse=np.sqrt(-cross_val_score(model,x,y,cv=kfold, scoring='neg_mean_squared_error'))\n",
    "    return rmse"
   ]
  },
  {
   "cell_type": "code",
   "execution_count": 44,
   "metadata": {},
   "outputs": [],
   "source": [
    "# All paramaters used in the models have been tuned using the GRIDSEARCHCV funtion on the basis of articles on \n",
    "# Analytics Vidhya"
   ]
  },
  {
   "cell_type": "code",
   "execution_count": 45,
   "metadata": {},
   "outputs": [],
   "source": [
    "lightgbm=LGBMRegressor(objective='regression',num_leaves=80,\n",
    "                              learning_rate=0.1, n_estimators=1200,\n",
    "                              max_bin = 30, bagging_fraction = 0.8,\n",
    "                              bagging_freq = 9, feature_fraction = 0.129,\n",
    "                              feature_fraction_seed=9, bagging_seed=9,\n",
    "                              min_data_in_leaf =3, min_sum_hessian_in_leaf = 6, random_state=10)"
   ]
  },
  {
   "cell_type": "code",
   "execution_count": 46,
   "metadata": {},
   "outputs": [],
   "source": [
    "#rmsle_cv(lightgbm).mean(),rmsle_cv(lightgbm).std() # Commented for faster running of complete code"
   ]
  },
  {
   "cell_type": "code",
   "execution_count": 47,
   "metadata": {},
   "outputs": [],
   "source": [
    "xgb=XGBRegressor(learning_rate =0.1, \n",
    "      n_estimators=1500, max_depth=12, min_child_weight=1,gamma=0, reg_alpha=2e-5,\n",
    "      subsample=0.8,colsample_bytree=0.8,\n",
    "      nthread=4,scale_pos_weight=1,seed=27,verbose=True,random_state=10)"
   ]
  },
  {
   "cell_type": "code",
   "execution_count": 48,
   "metadata": {},
   "outputs": [],
   "source": [
    "#rmsle_cv(xgb).mean(),rmsle_cv(xgb).std() # Commented for faster running of complete code"
   ]
  },
  {
   "cell_type": "code",
   "execution_count": 49,
   "metadata": {},
   "outputs": [],
   "source": [
    "grb=GradientBoostingRegressor(learning_rate=0.1,n_estimators=400, max_depth=12\n",
    "                              ,subsample=0.8,\n",
    "                              verbose=False,random_state=10)"
   ]
  },
  {
   "cell_type": "code",
   "execution_count": 50,
   "metadata": {},
   "outputs": [],
   "source": [
    "#rmsle_cv(grb).mean(), rmsle_cv(grb).std() # Commented for faster running of complete code"
   ]
  },
  {
   "cell_type": "code",
   "execution_count": 51,
   "metadata": {},
   "outputs": [],
   "source": [
    "svr = Pipeline([('Scaler',RobustScaler()), ('SVR',SVR(C= 10000, epsilon= 0.008, gamma=0.009))])"
   ]
  },
  {
   "cell_type": "code",
   "execution_count": 52,
   "metadata": {},
   "outputs": [],
   "source": [
    "#rmsle_cv(svr).mean(), rmsle_cv(svr).std() # Commented for faster running of complete code"
   ]
  },
  {
   "cell_type": "code",
   "execution_count": 53,
   "metadata": {
    "scrolled": true
   },
   "outputs": [],
   "source": [
    "krr=KernelRidge(alpha=1, kernel='polynomial', gamma=0.001,degree=3,coef0=5)\n",
    "#rmsle_cv(krr).mean(), rmsle_cv(krr).std() # Commented for faster running of complete code"
   ]
  },
  {
   "cell_type": "code",
   "execution_count": 54,
   "metadata": {},
   "outputs": [],
   "source": [
    "rf=RandomForestRegressor(n_estimators=3000, oob_score = False, n_jobs = -1,random_state =50,\n",
    "                         max_features = \"auto\", min_samples_leaf = 2,warm_start=True,criterion='mse',max_depth=50)"
   ]
  },
  {
   "cell_type": "code",
   "execution_count": 55,
   "metadata": {},
   "outputs": [],
   "source": [
    "#rmsle_cv(rf).mean(), rmsle_cv(rf).std() # Commented for faster running of complete code"
   ]
  },
  {
   "cell_type": "code",
   "execution_count": 56,
   "metadata": {},
   "outputs": [],
   "source": [
    "# Final ensemble that uses outputs from each model regressor and the original data in the meta regressor XGB\n",
    "avg=StackingCVRegressor(regressors=(lightgbm,grb,svr,krr,rf),meta_regressor=xgb, use_features_in_secondary=True)"
   ]
  },
  {
   "cell_type": "code",
   "execution_count": 57,
   "metadata": {},
   "outputs": [],
   "source": [
    "# Function to calculate RMSE error of the complete model for reference, similiar to rmsle_cv without KFOLD CV\n",
    "def rmsle(y, y_pred):\n",
    "    return np.sqrt(mean_squared_error(y, y_pred))"
   ]
  },
  {
   "cell_type": "code",
   "execution_count": 58,
   "metadata": {},
   "outputs": [],
   "source": [
    "X=np.array(x)\n",
    "Y=np.array(y)"
   ]
  },
  {
   "cell_type": "code",
   "execution_count": 59,
   "metadata": {
    "scrolled": false
   },
   "outputs": [],
   "source": [
    "# Fitting the model on the train data and predicting the train price values\n",
    "avg.fit(X,Y)\n",
    "y_pred=avg.predict(X)"
   ]
  },
  {
   "cell_type": "code",
   "execution_count": 60,
   "metadata": {
    "scrolled": true
   },
   "outputs": [
    {
     "data": {
      "text/plain": [
       "[<matplotlib.lines.Line2D at 0x1184ccdd8>]"
      ]
     },
     "execution_count": 60,
     "metadata": {},
     "output_type": "execute_result"
    },
    {
     "data": {
      "image/png": "[encoded data removed]",
      "text/plain": [
       "<matplotlib.figure.Figure at 0x1184cc978>"
      ]
     },
     "metadata": {},
     "output_type": "display_data"
    }
   ],
   "source": [
    "# Plot of the model prediction with the original price values in the training data set to undestand model fit\n",
    "plt.scatter(list(y_pred),y)\n",
    "plt.plot(range(7,13),range(7,13),'r')"
   ]
  },
  {
   "cell_type": "code",
   "execution_count": 61,
   "metadata": {},
   "outputs": [
    {
     "data": {
      "text/plain": [
       "0.05794757027443086"
      ]
     },
     "execution_count": 61,
     "metadata": {},
     "output_type": "execute_result"
    }
   ],
   "source": [
    "# RMSE value of the model on training data\n",
    "rmsle(y,y_pred)"
   ]
  },
  {
   "cell_type": "code",
   "execution_count": 62,
   "metadata": {},
   "outputs": [],
   "source": [
    "# Predictions of test data\n",
    "Predict=avg.predict(np.array(test_df.drop('Price',axis=1)))"
   ]
  },
  {
   "cell_type": "code",
   "execution_count": 63,
   "metadata": {},
   "outputs": [],
   "source": [
    "# Converting price back to original scale and making it integer\n",
    "Predict=np.exp(Predict)\n",
    "Predict=Predict.astype(int)"
   ]
  },
  {
   "cell_type": "code",
   "execution_count": 64,
   "metadata": {},
   "outputs": [],
   "source": [
    "# Converting predicted values to dataframe\n",
    "Submission=pd.DataFrame(Predict,columns=['Price'])"
   ]
  },
  {
   "cell_type": "code",
   "execution_count": 65,
   "metadata": {},
   "outputs": [
    {
     "data": {
      "text/plain": [
       "2671"
      ]
     },
     "execution_count": 65,
     "metadata": {},
     "output_type": "execute_result"
    }
   ],
   "source": [
    "len(Submission)"
   ]
  },
  {
   "cell_type": "code",
   "execution_count": 66,
   "metadata": {
    "scrolled": false
   },
   "outputs": [
    {
     "data": {
      "text/html": [
       "<div>\n",
       "<style scoped>\n",
       "    .dataframe tbody tr th:only-of-type {\n",
       "        vertical-align: middle;\n",
       "    }\n",
       "\n",
       "    .dataframe tbody tr th {\n",
       "        vertical-align: top;\n",
       "    }\n",
       "\n",
       "    .dataframe thead th {\n",
       "        text-align: right;\n",
       "    }\n",
       "</style>\n",
       "<table border=\"1\" class=\"dataframe\">\n",
       "  <thead>\n",
       "    <tr style=\"text-align: right;\">\n",
       "      <th></th>\n",
       "      <th>Price</th>\n",
       "    </tr>\n",
       "  </thead>\n",
       "  <tbody>\n",
       "    <tr>\n",
       "      <th>0</th>\n",
       "      <td>14850</td>\n",
       "    </tr>\n",
       "    <tr>\n",
       "      <th>1</th>\n",
       "      <td>4400</td>\n",
       "    </tr>\n",
       "    <tr>\n",
       "      <th>2</th>\n",
       "      <td>12945</td>\n",
       "    </tr>\n",
       "    <tr>\n",
       "      <th>3</th>\n",
       "      <td>8705</td>\n",
       "    </tr>\n",
       "    <tr>\n",
       "      <th>4</th>\n",
       "      <td>3571</td>\n",
       "    </tr>\n",
       "  </tbody>\n",
       "</table>\n",
       "</div>"
      ],
      "text/plain": [
       "   Price\n",
       "0  14850\n",
       "1   4400\n",
       "2  12945\n",
       "3   8705\n",
       "4   3571"
      ]
     },
     "execution_count": 66,
     "metadata": {},
     "output_type": "execute_result"
    }
   ],
   "source": [
    "Submission.head()"
   ]
  },
  {
   "cell_type": "code",
   "execution_count": 67,
   "metadata": {},
   "outputs": [],
   "source": [
    "# Final Submission\n",
    "Submission.to_excel('Submission_rf.xlsx')"
   ]
  }
 ],
 "metadata": {
  "kernelspec": {
   "display_name": "Python 3",
   "language": "python",
   "name": "python3"
  },
  "language_info": {
   "codemirror_mode": {
    "name": "ipython",
    "version": 3
   },
   "file_extension": ".py",
   "mimetype": "text/x-python",
   "name": "python",
   "nbconvert_exporter": "python",
   "pygments_lexer": "ipython3",
   "version": "3.9.2"
  }
 },
 "nbformat": 4,
 "nbformat_minor": 2
}
